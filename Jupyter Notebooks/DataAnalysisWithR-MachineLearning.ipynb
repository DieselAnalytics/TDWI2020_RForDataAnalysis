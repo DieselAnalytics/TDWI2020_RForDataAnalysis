{
 "cells": [
  {
   "cell_type": "code",
   "execution_count": 1,
   "metadata": {},
   "outputs": [
    {
     "name": "stderr",
     "output_type": "stream",
     "text": [
      "── \u001b[1mAttaching packages\u001b[22m ─────────────────────────────────────── tidyverse 1.3.0 ──\n",
      "\n",
      "\u001b[32m✔\u001b[39m \u001b[34mggplot2\u001b[39m 3.3.2     \u001b[32m✔\u001b[39m \u001b[34mpurrr  \u001b[39m 0.3.4\n",
      "\u001b[32m✔\u001b[39m \u001b[34mtibble \u001b[39m 3.0.2     \u001b[32m✔\u001b[39m \u001b[34mdplyr  \u001b[39m 1.0.2\n",
      "\u001b[32m✔\u001b[39m \u001b[34mtidyr  \u001b[39m 1.1.2     \u001b[32m✔\u001b[39m \u001b[34mstringr\u001b[39m 1.4.0\n",
      "\u001b[32m✔\u001b[39m \u001b[34mreadr  \u001b[39m 1.4.0     \u001b[32m✔\u001b[39m \u001b[34mforcats\u001b[39m 0.5.0\n",
      "\n",
      "── \u001b[1mConflicts\u001b[22m ────────────────────────────────────────── tidyverse_conflicts() ──\n",
      "\u001b[31m✖\u001b[39m \u001b[34mdplyr\u001b[39m::\u001b[32mfilter()\u001b[39m masks \u001b[34mstats\u001b[39m::filter()\n",
      "\u001b[31m✖\u001b[39m \u001b[34mdplyr\u001b[39m::\u001b[32mlag()\u001b[39m    masks \u001b[34mstats\u001b[39m::lag()\n",
      "\n",
      "\n",
      "Attaching package: ‘MASS’\n",
      "\n",
      "\n",
      "The following object is masked from ‘package:dplyr’:\n",
      "\n",
      "    select\n",
      "\n",
      "\n"
     ]
    }
   ],
   "source": [
    "library(tidyverse)\n",
    "library(MASS)\n",
    "library(Metrics)"
   ]
  },
  {
   "cell_type": "markdown",
   "metadata": {},
   "source": [
    "# Machine Learning in R\n",
    "\n",
    "As stated earlier, R is a domain specific programming language for advanced analytics. Many data related tasks that are relatively hard to do in other programming languages are easier to do in R. Let's illustrate with a simple multivariate linear regression example.\n",
    "\n",
    "We will use a data set obtained from the ***MASS*** package that contains information about home values in suburban Boston in 1978. The data set contains the following 14 variables:\n",
    "\n",
    "- CRIM: per capita crime rate by town\n",
    "- ZN: proportion of residential land zoned for lots over 25,000 sq.ft.\n",
    "- INDUS: proportion of non-retail business acres per town.\n",
    "- CHAS: Charles River dummy variable (1 if tract bounds river; 0 otherwise)\n",
    "- NOX: nitric oxides concentration (parts per 10 million)\n",
    "- RM: average number of rooms per dwelling\n",
    "- AGE: proportion of owner-occupied units built prior to 1940\n",
    "- DIS: weighted distances to five Boston employment centres\n",
    "- RAD: index of accessibility to radial highways\n",
    "- TAX: full-value property-tax rate per 10K dollars\n",
    "- PTRATIO: pupil-teacher ratio by town\n",
    "- B: 1000*(Bk - 0.63)^2 where Bk is the proportion of blacks by town\n",
    "- LSTAT: % lower status of the population\n",
    "- MEDV: Median value of owner-occupied homes in $1000's\n",
    "\n",
    "We will use the above data set to develop a model that predicts ***MEDV*** based on ***crim***, ***rm***, ***tax***, and ***lstat***. Before we develop the model  we will use the following code to partition the data set into a training data set and testing data set using the flowing code:\n"
   ]
  },
  {
   "cell_type": "code",
   "execution_count": 2,
   "metadata": {},
   "outputs": [],
   "source": [
    "data(\"Boston\")\n",
    "\n",
    "set.seed(1)\n",
    "train_rownumbers <- sample(nrow(Boston), size = trunc(0.8*nrow(Boston)))\n",
    "\n",
    "train_dataset <- \n",
    "  Boston %>%\n",
    "  filter(row_number() %in% train_rownumbers) %>%\n",
    "  dplyr::select(medv, crim, rm, tax, lstat)\n",
    "\n",
    "test_dataset <- \n",
    "  Boston %>% \n",
    "  filter(!row_number() %in% train_rownumbers) %>%\n",
    "  dplyr::select(medv, crim,rm,tax,lstat)  "
   ]
  },
  {
   "cell_type": "markdown",
   "metadata": {},
   "source": [
    "The above code creates two data frames based on a 80/20 split. The first data frame that is created is the ***train_set*** data frame which represents 80% of the data and it will be used to train the model. The second data fame that is created is the ***test_dataset*** data frame which represents 20% of the data set and it will be used to test the model we created to see how well the model generalizes to new data. This is the simplest method to use to prevent your model from overfitting your available data as well as to test to see how well your data might generalize to new data.\n",
    "\n",
    "Next, let's create the model using the ***train_set*** data frame:"
   ]
  },
  {
   "cell_type": "code",
   "execution_count": 3,
   "metadata": {},
   "outputs": [
    {
     "data": {
      "text/plain": [
       "\n",
       "Call:\n",
       "lm(formula = medv ~ crim + rm + tax + lstat, data = train_dataset)\n",
       "\n",
       "Residuals:\n",
       "    Min      1Q  Median      3Q     Max \n",
       "-11.035  -3.641  -1.094   1.684  30.205 \n",
       "\n",
       "Coefficients:\n",
       "             Estimate Std. Error t value Pr(>|t|)    \n",
       "(Intercept) -2.623252   3.718279  -0.706   0.4809    \n",
       "crim        -0.051392   0.043930  -1.170   0.2428    \n",
       "rm           5.464395   0.507473  10.768   <2e-16 ***\n",
       "tax         -0.003947   0.002190  -1.803   0.0722 .  \n",
       "lstat       -0.570423   0.056879 -10.029   <2e-16 ***\n",
       "---\n",
       "Signif. codes:  0 ‘***’ 0.001 ‘**’ 0.01 ‘*’ 0.05 ‘.’ 0.1 ‘ ’ 1\n",
       "\n",
       "Residual standard error: 5.614 on 399 degrees of freedom\n",
       "Multiple R-squared:  0.6541,\tAdjusted R-squared:  0.6507 \n",
       "F-statistic: 188.7 on 4 and 399 DF,  p-value: < 2.2e-16\n"
      ]
     },
     "metadata": {},
     "output_type": "display_data"
    }
   ],
   "source": [
    "model <- lm(medv ~ crim+rm+tax+lstat, data = train_dataset)\n",
    "summary(model)"
   ]
  },
  {
   "cell_type": "markdown",
   "metadata": {},
   "source": [
    "The ***lm()*** function is used above to create the model. The function requires a formula and the data set to train the model. The formula was very easy to construct. The formula is comprised of a ***dependent*** variable on the left, followed by a \"~\", followed by the independent ***variables***.\n",
    "\n",
    "The next thing we want to do is see how well model generalize against new data. That can be easily accomplished using the ***predict()*** function which also comes from the base R package. To function requires two parameters; the variable that holds the model object and the variable that holds the data frame needed by the model. The output that is generated from the ***predict()*** function is a vector that contains the scores. The following code illustrates using the ***predict()*** function to score the data in ***test_dataset***:"
   ]
  },
  {
   "cell_type": "code",
   "execution_count": 4,
   "metadata": {},
   "outputs": [
    {
     "data": {
      "text/html": [
       "<style>\n",
       ".dl-inline {width: auto; margin:0; padding: 0}\n",
       ".dl-inline>dt, .dl-inline>dd {float: none; width: auto; display: inline-block}\n",
       ".dl-inline>dt::after {content: \":\\0020\"; padding-right: .5ex}\n",
       ".dl-inline>dt:not(:first-of-type) {padding-left: .5ex}\n",
       "</style><dl class=dl-inline><dt>1</dt><dd>28.663161446572</dd><dt>2</dt><dd>21.9063140907287</dd><dt>3</dt><dd>9.83565454128083</dd><dt>4</dt><dd>19.1945211365975</dd><dt>5</dt><dd>19.3190036578943</dd></dl>\n"
      ],
      "text/latex": [
       "\\begin{description*}\n",
       "\\item[1] 28.663161446572\n",
       "\\item[2] 21.9063140907287\n",
       "\\item[3] 9.83565454128083\n",
       "\\item[4] 19.1945211365975\n",
       "\\item[5] 19.3190036578943\n",
       "\\end{description*}\n"
      ],
      "text/markdown": [
       "1\n",
       ":   28.6631614465722\n",
       ":   21.90631409072873\n",
       ":   9.835654541280834\n",
       ":   19.19452113659755\n",
       ":   19.3190036578943\n",
       "\n"
      ],
      "text/plain": [
       "        1         2         3         4         5 \n",
       "28.663161 21.906314  9.835655 19.194521 19.319004 "
      ]
     },
     "metadata": {},
     "output_type": "display_data"
    }
   ],
   "source": [
    "data_to_score <- dplyr::select(test_dataset, crim, rm, tax, lstat)\n",
    "pred_medv <- predict(model, data_to_score)\n",
    "pred_medv[0:5]"
   ]
  },
  {
   "cell_type": "markdown",
   "metadata": {},
   "source": [
    "We can easily add the results of the predictions to the ***test_dataset*** data frame using the code below:"
   ]
  },
  {
   "cell_type": "code",
   "execution_count": 5,
   "metadata": {},
   "outputs": [
    {
     "data": {
      "text/html": [
       "<table>\n",
       "<caption>A data.frame: 5 × 6</caption>\n",
       "<thead>\n",
       "\t<tr><th></th><th scope=col>medv</th><th scope=col>crim</th><th scope=col>rm</th><th scope=col>tax</th><th scope=col>lstat</th><th scope=col>pred_medv</th></tr>\n",
       "\t<tr><th></th><th scope=col>&lt;dbl&gt;</th><th scope=col>&lt;dbl&gt;</th><th scope=col>&lt;dbl&gt;</th><th scope=col>&lt;dbl&gt;</th><th scope=col>&lt;dbl&gt;</th><th scope=col>&lt;dbl&gt;</th></tr>\n",
       "</thead>\n",
       "<tbody>\n",
       "\t<tr><th scope=row>1</th><td>28.7</td><td>0.02985</td><td>6.430</td><td>222</td><td> 5.21</td><td>28.663161</td></tr>\n",
       "\t<tr><th scope=row>2</th><td>22.9</td><td>0.08829</td><td>6.012</td><td>311</td><td>12.43</td><td>21.906314</td></tr>\n",
       "\t<tr><th scope=row>3</th><td>16.5</td><td>0.21124</td><td>5.631</td><td>311</td><td>29.93</td><td> 9.835655</td></tr>\n",
       "\t<tr><th scope=row>4</th><td>18.9</td><td>0.17004</td><td>6.004</td><td>311</td><td>17.10</td><td>19.194521</td></tr>\n",
       "\t<tr><th scope=row>5</th><td>15.0</td><td>0.22489</td><td>6.377</td><td>311</td><td>20.45</td><td>19.319004</td></tr>\n",
       "</tbody>\n",
       "</table>\n"
      ],
      "text/latex": [
       "A data.frame: 5 × 6\n",
       "\\begin{tabular}{r|llllll}\n",
       "  & medv & crim & rm & tax & lstat & pred\\_medv\\\\\n",
       "  & <dbl> & <dbl> & <dbl> & <dbl> & <dbl> & <dbl>\\\\\n",
       "\\hline\n",
       "\t1 & 28.7 & 0.02985 & 6.430 & 222 &  5.21 & 28.663161\\\\\n",
       "\t2 & 22.9 & 0.08829 & 6.012 & 311 & 12.43 & 21.906314\\\\\n",
       "\t3 & 16.5 & 0.21124 & 5.631 & 311 & 29.93 &  9.835655\\\\\n",
       "\t4 & 18.9 & 0.17004 & 6.004 & 311 & 17.10 & 19.194521\\\\\n",
       "\t5 & 15.0 & 0.22489 & 6.377 & 311 & 20.45 & 19.319004\\\\\n",
       "\\end{tabular}\n"
      ],
      "text/markdown": [
       "\n",
       "A data.frame: 5 × 6\n",
       "\n",
       "| <!--/--> | medv &lt;dbl&gt; | crim &lt;dbl&gt; | rm &lt;dbl&gt; | tax &lt;dbl&gt; | lstat &lt;dbl&gt; | pred_medv &lt;dbl&gt; |\n",
       "|---|---|---|---|---|---|---|\n",
       "| 1 | 28.7 | 0.02985 | 6.430 | 222 |  5.21 | 28.663161 |\n",
       "| 2 | 22.9 | 0.08829 | 6.012 | 311 | 12.43 | 21.906314 |\n",
       "| 3 | 16.5 | 0.21124 | 5.631 | 311 | 29.93 |  9.835655 |\n",
       "| 4 | 18.9 | 0.17004 | 6.004 | 311 | 17.10 | 19.194521 |\n",
       "| 5 | 15.0 | 0.22489 | 6.377 | 311 | 20.45 | 19.319004 |\n",
       "\n"
      ],
      "text/plain": [
       "  medv crim    rm    tax lstat pred_medv\n",
       "1 28.7 0.02985 6.430 222  5.21 28.663161\n",
       "2 22.9 0.08829 6.012 311 12.43 21.906314\n",
       "3 16.5 0.21124 5.631 311 29.93  9.835655\n",
       "4 18.9 0.17004 6.004 311 17.10 19.194521\n",
       "5 15.0 0.22489 6.377 311 20.45 19.319004"
      ]
     },
     "metadata": {},
     "output_type": "display_data"
    }
   ],
   "source": [
    "final_output <- cbind(test_dataset, pred_medv)\n",
    "final_output[0:5,]"
   ]
  },
  {
   "cell_type": "markdown",
   "metadata": {},
   "source": [
    "The code above uses the ***cbind()*** function to append the **pred_medv** column to the end of the ***test_dataset*** data frame. The \"c\" in ***cbind()*** stands for column so the purpose of the function is to do column based data bindings. \n",
    "\n",
    "We now need to test how well the new model generalize against the new ***test_dataset***. We will use the ***RMSE*** statistic ***rmse()*** function from the ***Metrics*** package. Here is the code needed to perform the task:"
   ]
  },
  {
   "cell_type": "code",
   "execution_count": 6,
   "metadata": {},
   "outputs": [
    {
     "data": {
      "text/html": [
       "4.86532433525358"
      ],
      "text/latex": [
       "4.86532433525358"
      ],
      "text/markdown": [
       "4.86532433525358"
      ],
      "text/plain": [
       "[1] 4.865324"
      ]
     },
     "metadata": {},
     "output_type": "display_data"
    }
   ],
   "source": [
    "rmse_stat <- rmse(final_output$medv, final_output$pred_medv)\n",
    "rmse_stat"
   ]
  },
  {
   "cell_type": "markdown",
   "metadata": {},
   "source": [
    "The ***rmse_stat*** is the standard deviation of the residuals. The lower the number the better. This metric is used to compare models. The model with the lowest ***RMSE*** stat is considered the best model when comparing models using this stat.\n",
    "\n",
    "The above is an example of how to implement a very simple linear regression model using base R functionality. Base R also offer the ability to develop models that belongs to the ***generalized linear model*** family via the ***glm()*** function. There are also special packages in R such as the ***caret*** package that provides powerful and flexible tools for predictive modeling."
   ]
  }
 ],
 "metadata": {
  "kernelspec": {
   "display_name": "R",
   "language": "R",
   "name": "ir"
  },
  "language_info": {
   "codemirror_mode": "r",
   "file_extension": ".r",
   "mimetype": "text/x-r-source",
   "name": "R",
   "pygments_lexer": "r",
   "version": "3.6.3"
  }
 },
 "nbformat": 4,
 "nbformat_minor": 4
}
