{
 "cells": [
  {
   "cell_type": "code",
   "execution_count": 1,
   "metadata": {},
   "outputs": [
    {
     "name": "stderr",
     "output_type": "stream",
     "text": [
      "── \u001b[1mAttaching packages\u001b[22m ─────────────────────────────────────── tidyverse 1.3.0 ──\n",
      "\n",
      "\u001b[32m✔\u001b[39m \u001b[34mggplot2\u001b[39m 3.3.2     \u001b[32m✔\u001b[39m \u001b[34mpurrr  \u001b[39m 0.3.4\n",
      "\u001b[32m✔\u001b[39m \u001b[34mtibble \u001b[39m 3.0.2     \u001b[32m✔\u001b[39m \u001b[34mdplyr  \u001b[39m 1.0.2\n",
      "\u001b[32m✔\u001b[39m \u001b[34mtidyr  \u001b[39m 1.1.2     \u001b[32m✔\u001b[39m \u001b[34mstringr\u001b[39m 1.4.0\n",
      "\u001b[32m✔\u001b[39m \u001b[34mreadr  \u001b[39m 1.4.0     \u001b[32m✔\u001b[39m \u001b[34mforcats\u001b[39m 0.5.0\n",
      "\n",
      "── \u001b[1mConflicts\u001b[22m ────────────────────────────────────────── tidyverse_conflicts() ──\n",
      "\u001b[31m✖\u001b[39m \u001b[34mdplyr\u001b[39m::\u001b[32mfilter()\u001b[39m masks \u001b[34mstats\u001b[39m::filter()\n",
      "\u001b[31m✖\u001b[39m \u001b[34mdplyr\u001b[39m::\u001b[32mlag()\u001b[39m    masks \u001b[34mstats\u001b[39m::lag()\n",
      "\n",
      "\n",
      "Attaching package: ‘scales’\n",
      "\n",
      "\n",
      "The following object is masked from ‘package:purrr’:\n",
      "\n",
      "    discard\n",
      "\n",
      "\n",
      "The following object is masked from ‘package:readr’:\n",
      "\n",
      "    col_factor\n",
      "\n",
      "\n"
     ]
    }
   ],
   "source": [
    "library(tidyverse)\n",
    "library(scales)\n",
    "library(repr)"
   ]
  },
  {
   "cell_type": "markdown",
   "metadata": {},
   "source": [
    "# R Data Frames\n",
    "The most popular data structure you will work with in R when working with tabular data is the ***data frame***. The ***data frame*** is an ***augmented list*** that is comprised of a list of ***atomic vectors*** that are of equal length. Below we read in the ***population_data*** data frame that will be the basis of the examples in this notebook."
   ]
  },
  {
   "cell_type": "code",
   "execution_count": 2,
   "metadata": {},
   "outputs": [
    {
     "name": "stderr",
     "output_type": "stream",
     "text": [
      "\n",
      "\u001b[36m──\u001b[39m \u001b[1m\u001b[1mColumn specification\u001b[1m\u001b[22m \u001b[36m────────────────────────────────────────────────────────\u001b[39m\n",
      "cols(\n",
      "  GEOID = \u001b[32mcol_double()\u001b[39m,\n",
      "  County = \u001b[31mcol_character()\u001b[39m,\n",
      "  State = \u001b[31mcol_character()\u001b[39m,\n",
      "  B02001_002E = \u001b[32mcol_double()\u001b[39m,\n",
      "  B02001_002M = \u001b[32mcol_double()\u001b[39m,\n",
      "  B02001_003E = \u001b[32mcol_double()\u001b[39m,\n",
      "  B02001_003M = \u001b[32mcol_double()\u001b[39m,\n",
      "  B02001_004E = \u001b[32mcol_double()\u001b[39m,\n",
      "  B02001_004M = \u001b[32mcol_double()\u001b[39m,\n",
      "  B02001_005E = \u001b[32mcol_double()\u001b[39m,\n",
      "  B02001_005M = \u001b[32mcol_double()\u001b[39m,\n",
      "  B02001_006E = \u001b[32mcol_double()\u001b[39m,\n",
      "  B02001_006M = \u001b[32mcol_double()\u001b[39m,\n",
      "  B02001_007E = \u001b[32mcol_double()\u001b[39m,\n",
      "  B02001_007M = \u001b[32mcol_double()\u001b[39m,\n",
      "  B02001_008E = \u001b[32mcol_double()\u001b[39m,\n",
      "  B02001_008M = \u001b[32mcol_double()\u001b[39m\n",
      ")\n",
      "\n",
      "\n"
     ]
    }
   ],
   "source": [
    "population_data <- read_csv(\"../Datasets/population_rawdata.csv\")"
   ]
  },
  {
   "cell_type": "markdown",
   "metadata": {},
   "source": [
    "# Subsetting columns in a Dataframes\n",
    "\n",
    "The ***population_data*** contains population data by age. The columns in the data set uses the variable names created by the demographers at the US census. The columns that ends with an \"E\" contains the population estimates and the columns that ends with and \"M\" contains the margin of errors. We only want the to keep the ***County***, ***State***, and columns that ends with \"E\". We can accomplish that task using the ***select()*** function from ***dplyr*** as listed below:"
   ]
  },
  {
   "cell_type": "code",
   "execution_count": 3,
   "metadata": {},
   "outputs": [
    {
     "data": {
      "text/html": [
       "<table>\n",
       "<caption>A tibble: 6 × 9</caption>\n",
       "<thead>\n",
       "\t<tr><th scope=col>County</th><th scope=col>State</th><th scope=col>B02001_002E</th><th scope=col>B02001_003E</th><th scope=col>B02001_004E</th><th scope=col>B02001_005E</th><th scope=col>B02001_006E</th><th scope=col>B02001_007E</th><th scope=col>B02001_008E</th></tr>\n",
       "\t<tr><th scope=col>&lt;chr&gt;</th><th scope=col>&lt;chr&gt;</th><th scope=col>&lt;dbl&gt;</th><th scope=col>&lt;dbl&gt;</th><th scope=col>&lt;dbl&gt;</th><th scope=col>&lt;dbl&gt;</th><th scope=col>&lt;dbl&gt;</th><th scope=col>&lt;dbl&gt;</th><th scope=col>&lt;dbl&gt;</th></tr>\n",
       "</thead>\n",
       "<tbody>\n",
       "\t<tr><td>Corozal Municipio      </td><td>Puerto Rico</td><td> 28500</td><td>2097</td><td>  0</td><td>  0</td><td>0</td><td>2916</td><td> 1420</td></tr>\n",
       "\t<tr><td>Maunabo Municipio      </td><td>Puerto Rico</td><td>  3795</td><td>7042</td><td> 10</td><td>  0</td><td>0</td><td> 317</td><td>  133</td></tr>\n",
       "\t<tr><td>Peñuelas Municipio     </td><td>Puerto Rico</td><td> 16967</td><td> 755</td><td> 29</td><td> 35</td><td>0</td><td>3643</td><td>  232</td></tr>\n",
       "\t<tr><td>Ponce Municipio        </td><td>Puerto Rico</td><td>117164</td><td>7493</td><td>211</td><td>148</td><td>0</td><td>9801</td><td>14046</td></tr>\n",
       "\t<tr><td>San Sebastián Municipio</td><td>Puerto Rico</td><td> 28075</td><td> 996</td><td>  0</td><td> 97</td><td>0</td><td>9202</td><td>  600</td></tr>\n",
       "\t<tr><td>Toa Alta Municipio     </td><td>Puerto Rico</td><td> 57375</td><td>5412</td><td>291</td><td>296</td><td>6</td><td>4181</td><td> 6608</td></tr>\n",
       "</tbody>\n",
       "</table>\n"
      ],
      "text/latex": [
       "A tibble: 6 × 9\n",
       "\\begin{tabular}{lllllllll}\n",
       " County & State & B02001\\_002E & B02001\\_003E & B02001\\_004E & B02001\\_005E & B02001\\_006E & B02001\\_007E & B02001\\_008E\\\\\n",
       " <chr> & <chr> & <dbl> & <dbl> & <dbl> & <dbl> & <dbl> & <dbl> & <dbl>\\\\\n",
       "\\hline\n",
       "\t Corozal Municipio       & Puerto Rico &  28500 & 2097 &   0 &   0 & 0 & 2916 &  1420\\\\\n",
       "\t Maunabo Municipio       & Puerto Rico &   3795 & 7042 &  10 &   0 & 0 &  317 &   133\\\\\n",
       "\t Peñuelas Municipio      & Puerto Rico &  16967 &  755 &  29 &  35 & 0 & 3643 &   232\\\\\n",
       "\t Ponce Municipio         & Puerto Rico & 117164 & 7493 & 211 & 148 & 0 & 9801 & 14046\\\\\n",
       "\t San Sebastián Municipio & Puerto Rico &  28075 &  996 &   0 &  97 & 0 & 9202 &   600\\\\\n",
       "\t Toa Alta Municipio      & Puerto Rico &  57375 & 5412 & 291 & 296 & 6 & 4181 &  6608\\\\\n",
       "\\end{tabular}\n"
      ],
      "text/markdown": [
       "\n",
       "A tibble: 6 × 9\n",
       "\n",
       "| County &lt;chr&gt; | State &lt;chr&gt; | B02001_002E &lt;dbl&gt; | B02001_003E &lt;dbl&gt; | B02001_004E &lt;dbl&gt; | B02001_005E &lt;dbl&gt; | B02001_006E &lt;dbl&gt; | B02001_007E &lt;dbl&gt; | B02001_008E &lt;dbl&gt; |\n",
       "|---|---|---|---|---|---|---|---|---|\n",
       "| Corozal Municipio       | Puerto Rico |  28500 | 2097 |   0 |   0 | 0 | 2916 |  1420 |\n",
       "| Maunabo Municipio       | Puerto Rico |   3795 | 7042 |  10 |   0 | 0 |  317 |   133 |\n",
       "| Peñuelas Municipio      | Puerto Rico |  16967 |  755 |  29 |  35 | 0 | 3643 |   232 |\n",
       "| Ponce Municipio         | Puerto Rico | 117164 | 7493 | 211 | 148 | 0 | 9801 | 14046 |\n",
       "| San Sebastián Municipio | Puerto Rico |  28075 |  996 |   0 |  97 | 0 | 9202 |   600 |\n",
       "| Toa Alta Municipio      | Puerto Rico |  57375 | 5412 | 291 | 296 | 6 | 4181 |  6608 |\n",
       "\n"
      ],
      "text/plain": [
       "  County                  State       B02001_002E B02001_003E B02001_004E\n",
       "1 Corozal Municipio       Puerto Rico  28500      2097          0        \n",
       "2 Maunabo Municipio       Puerto Rico   3795      7042         10        \n",
       "3 Peñuelas Municipio      Puerto Rico  16967       755         29        \n",
       "4 Ponce Municipio         Puerto Rico 117164      7493        211        \n",
       "5 San Sebastián Municipio Puerto Rico  28075       996          0        \n",
       "6 Toa Alta Municipio      Puerto Rico  57375      5412        291        \n",
       "  B02001_005E B02001_006E B02001_007E B02001_008E\n",
       "1   0         0           2916         1420      \n",
       "2   0         0            317          133      \n",
       "3  35         0           3643          232      \n",
       "4 148         0           9801        14046      \n",
       "5  97         0           9202          600      \n",
       "6 296         6           4181         6608      "
      ]
     },
     "metadata": {},
     "output_type": "display_data"
    }
   ],
   "source": [
    "popdata_estimates <- \n",
    "  select(population_data, County, State, B02001_002E, \n",
    "         B02001_003E, B02001_004E, B02001_005E, B02001_006E, \n",
    "         B02001_007E, B02001_008E)\n",
    "head(popdata_estimates)"
   ]
  },
  {
   "cell_type": "markdown",
   "metadata": {},
   "source": [
    "The above method is the manual method and can be error prone when you are working with wide data frames with many columns. Below is an automatic method that performs the same task. Not only is the code less error prone but it is more succint as well."
   ]
  },
  {
   "cell_type": "code",
   "execution_count": 4,
   "metadata": {},
   "outputs": [
    {
     "data": {
      "text/html": [
       "<table>\n",
       "<caption>A tibble: 6 × 9</caption>\n",
       "<thead>\n",
       "\t<tr><th scope=col>County</th><th scope=col>State</th><th scope=col>B02001_002E</th><th scope=col>B02001_003E</th><th scope=col>B02001_004E</th><th scope=col>B02001_005E</th><th scope=col>B02001_006E</th><th scope=col>B02001_007E</th><th scope=col>B02001_008E</th></tr>\n",
       "\t<tr><th scope=col>&lt;chr&gt;</th><th scope=col>&lt;chr&gt;</th><th scope=col>&lt;dbl&gt;</th><th scope=col>&lt;dbl&gt;</th><th scope=col>&lt;dbl&gt;</th><th scope=col>&lt;dbl&gt;</th><th scope=col>&lt;dbl&gt;</th><th scope=col>&lt;dbl&gt;</th><th scope=col>&lt;dbl&gt;</th></tr>\n",
       "</thead>\n",
       "<tbody>\n",
       "\t<tr><td>Corozal Municipio      </td><td>Puerto Rico</td><td> 28500</td><td>2097</td><td>  0</td><td>  0</td><td>0</td><td>2916</td><td> 1420</td></tr>\n",
       "\t<tr><td>Maunabo Municipio      </td><td>Puerto Rico</td><td>  3795</td><td>7042</td><td> 10</td><td>  0</td><td>0</td><td> 317</td><td>  133</td></tr>\n",
       "\t<tr><td>Peñuelas Municipio     </td><td>Puerto Rico</td><td> 16967</td><td> 755</td><td> 29</td><td> 35</td><td>0</td><td>3643</td><td>  232</td></tr>\n",
       "\t<tr><td>Ponce Municipio        </td><td>Puerto Rico</td><td>117164</td><td>7493</td><td>211</td><td>148</td><td>0</td><td>9801</td><td>14046</td></tr>\n",
       "\t<tr><td>San Sebastián Municipio</td><td>Puerto Rico</td><td> 28075</td><td> 996</td><td>  0</td><td> 97</td><td>0</td><td>9202</td><td>  600</td></tr>\n",
       "\t<tr><td>Toa Alta Municipio     </td><td>Puerto Rico</td><td> 57375</td><td>5412</td><td>291</td><td>296</td><td>6</td><td>4181</td><td> 6608</td></tr>\n",
       "</tbody>\n",
       "</table>\n"
      ],
      "text/latex": [
       "A tibble: 6 × 9\n",
       "\\begin{tabular}{lllllllll}\n",
       " County & State & B02001\\_002E & B02001\\_003E & B02001\\_004E & B02001\\_005E & B02001\\_006E & B02001\\_007E & B02001\\_008E\\\\\n",
       " <chr> & <chr> & <dbl> & <dbl> & <dbl> & <dbl> & <dbl> & <dbl> & <dbl>\\\\\n",
       "\\hline\n",
       "\t Corozal Municipio       & Puerto Rico &  28500 & 2097 &   0 &   0 & 0 & 2916 &  1420\\\\\n",
       "\t Maunabo Municipio       & Puerto Rico &   3795 & 7042 &  10 &   0 & 0 &  317 &   133\\\\\n",
       "\t Peñuelas Municipio      & Puerto Rico &  16967 &  755 &  29 &  35 & 0 & 3643 &   232\\\\\n",
       "\t Ponce Municipio         & Puerto Rico & 117164 & 7493 & 211 & 148 & 0 & 9801 & 14046\\\\\n",
       "\t San Sebastián Municipio & Puerto Rico &  28075 &  996 &   0 &  97 & 0 & 9202 &   600\\\\\n",
       "\t Toa Alta Municipio      & Puerto Rico &  57375 & 5412 & 291 & 296 & 6 & 4181 &  6608\\\\\n",
       "\\end{tabular}\n"
      ],
      "text/markdown": [
       "\n",
       "A tibble: 6 × 9\n",
       "\n",
       "| County &lt;chr&gt; | State &lt;chr&gt; | B02001_002E &lt;dbl&gt; | B02001_003E &lt;dbl&gt; | B02001_004E &lt;dbl&gt; | B02001_005E &lt;dbl&gt; | B02001_006E &lt;dbl&gt; | B02001_007E &lt;dbl&gt; | B02001_008E &lt;dbl&gt; |\n",
       "|---|---|---|---|---|---|---|---|---|\n",
       "| Corozal Municipio       | Puerto Rico |  28500 | 2097 |   0 |   0 | 0 | 2916 |  1420 |\n",
       "| Maunabo Municipio       | Puerto Rico |   3795 | 7042 |  10 |   0 | 0 |  317 |   133 |\n",
       "| Peñuelas Municipio      | Puerto Rico |  16967 |  755 |  29 |  35 | 0 | 3643 |   232 |\n",
       "| Ponce Municipio         | Puerto Rico | 117164 | 7493 | 211 | 148 | 0 | 9801 | 14046 |\n",
       "| San Sebastián Municipio | Puerto Rico |  28075 |  996 |   0 |  97 | 0 | 9202 |   600 |\n",
       "| Toa Alta Municipio      | Puerto Rico |  57375 | 5412 | 291 | 296 | 6 | 4181 |  6608 |\n",
       "\n"
      ],
      "text/plain": [
       "  County                  State       B02001_002E B02001_003E B02001_004E\n",
       "1 Corozal Municipio       Puerto Rico  28500      2097          0        \n",
       "2 Maunabo Municipio       Puerto Rico   3795      7042         10        \n",
       "3 Peñuelas Municipio      Puerto Rico  16967       755         29        \n",
       "4 Ponce Municipio         Puerto Rico 117164      7493        211        \n",
       "5 San Sebastián Municipio Puerto Rico  28075       996          0        \n",
       "6 Toa Alta Municipio      Puerto Rico  57375      5412        291        \n",
       "  B02001_005E B02001_006E B02001_007E B02001_008E\n",
       "1   0         0           2916         1420      \n",
       "2   0         0            317          133      \n",
       "3  35         0           3643          232      \n",
       "4 148         0           9801        14046      \n",
       "5  97         0           9202          600      \n",
       "6 296         6           4181         6608      "
      ]
     },
     "metadata": {},
     "output_type": "display_data"
    }
   ],
   "source": [
    "popdata_estimates <- select(population_data, County, State, ends_with(\"E\"))\n",
    "head(popdata_estimates)"
   ]
  },
  {
   "cell_type": "markdown",
   "metadata": {},
   "source": [
    "# Renaming columns\n",
    "\n",
    "Renaming columns will be an common task you will have to do when working with data frames. You can use ***select()*** function to perform column renames but the downside will be that all columns in the data frame that are not specifically mentioned will be dropped. Another option is to use the ***rename()*** function. The ***rename()*** function renames the specified columns but does so while keeping the columns that were not explicitly referenced. An example is listed below:"
   ]
  },
  {
   "cell_type": "code",
   "execution_count": 5,
   "metadata": {},
   "outputs": [
    {
     "data": {
      "text/html": [
       "<table>\n",
       "<caption>A tibble: 6 × 9</caption>\n",
       "<thead>\n",
       "\t<tr><th scope=col>County</th><th scope=col>State</th><th scope=col>White</th><th scope=col>Black</th><th scope=col>American Indian</th><th scope=col>Asian</th><th scope=col>Pacific Islander</th><th scope=col>Other Race</th><th scope=col>Two or More Races</th></tr>\n",
       "\t<tr><th scope=col>&lt;chr&gt;</th><th scope=col>&lt;chr&gt;</th><th scope=col>&lt;dbl&gt;</th><th scope=col>&lt;dbl&gt;</th><th scope=col>&lt;dbl&gt;</th><th scope=col>&lt;dbl&gt;</th><th scope=col>&lt;dbl&gt;</th><th scope=col>&lt;dbl&gt;</th><th scope=col>&lt;dbl&gt;</th></tr>\n",
       "</thead>\n",
       "<tbody>\n",
       "\t<tr><td>Corozal Municipio      </td><td>Puerto Rico</td><td> 28500</td><td>2097</td><td>  0</td><td>  0</td><td>0</td><td>2916</td><td> 1420</td></tr>\n",
       "\t<tr><td>Maunabo Municipio      </td><td>Puerto Rico</td><td>  3795</td><td>7042</td><td> 10</td><td>  0</td><td>0</td><td> 317</td><td>  133</td></tr>\n",
       "\t<tr><td>Peñuelas Municipio     </td><td>Puerto Rico</td><td> 16967</td><td> 755</td><td> 29</td><td> 35</td><td>0</td><td>3643</td><td>  232</td></tr>\n",
       "\t<tr><td>Ponce Municipio        </td><td>Puerto Rico</td><td>117164</td><td>7493</td><td>211</td><td>148</td><td>0</td><td>9801</td><td>14046</td></tr>\n",
       "\t<tr><td>San Sebastián Municipio</td><td>Puerto Rico</td><td> 28075</td><td> 996</td><td>  0</td><td> 97</td><td>0</td><td>9202</td><td>  600</td></tr>\n",
       "\t<tr><td>Toa Alta Municipio     </td><td>Puerto Rico</td><td> 57375</td><td>5412</td><td>291</td><td>296</td><td>6</td><td>4181</td><td> 6608</td></tr>\n",
       "</tbody>\n",
       "</table>\n"
      ],
      "text/latex": [
       "A tibble: 6 × 9\n",
       "\\begin{tabular}{lllllllll}\n",
       " County & State & White & Black & American Indian & Asian & Pacific Islander & Other Race & Two or More Races\\\\\n",
       " <chr> & <chr> & <dbl> & <dbl> & <dbl> & <dbl> & <dbl> & <dbl> & <dbl>\\\\\n",
       "\\hline\n",
       "\t Corozal Municipio       & Puerto Rico &  28500 & 2097 &   0 &   0 & 0 & 2916 &  1420\\\\\n",
       "\t Maunabo Municipio       & Puerto Rico &   3795 & 7042 &  10 &   0 & 0 &  317 &   133\\\\\n",
       "\t Peñuelas Municipio      & Puerto Rico &  16967 &  755 &  29 &  35 & 0 & 3643 &   232\\\\\n",
       "\t Ponce Municipio         & Puerto Rico & 117164 & 7493 & 211 & 148 & 0 & 9801 & 14046\\\\\n",
       "\t San Sebastián Municipio & Puerto Rico &  28075 &  996 &   0 &  97 & 0 & 9202 &   600\\\\\n",
       "\t Toa Alta Municipio      & Puerto Rico &  57375 & 5412 & 291 & 296 & 6 & 4181 &  6608\\\\\n",
       "\\end{tabular}\n"
      ],
      "text/markdown": [
       "\n",
       "A tibble: 6 × 9\n",
       "\n",
       "| County &lt;chr&gt; | State &lt;chr&gt; | White &lt;dbl&gt; | Black &lt;dbl&gt; | American Indian &lt;dbl&gt; | Asian &lt;dbl&gt; | Pacific Islander &lt;dbl&gt; | Other Race &lt;dbl&gt; | Two or More Races &lt;dbl&gt; |\n",
       "|---|---|---|---|---|---|---|---|---|\n",
       "| Corozal Municipio       | Puerto Rico |  28500 | 2097 |   0 |   0 | 0 | 2916 |  1420 |\n",
       "| Maunabo Municipio       | Puerto Rico |   3795 | 7042 |  10 |   0 | 0 |  317 |   133 |\n",
       "| Peñuelas Municipio      | Puerto Rico |  16967 |  755 |  29 |  35 | 0 | 3643 |   232 |\n",
       "| Ponce Municipio         | Puerto Rico | 117164 | 7493 | 211 | 148 | 0 | 9801 | 14046 |\n",
       "| San Sebastián Municipio | Puerto Rico |  28075 |  996 |   0 |  97 | 0 | 9202 |   600 |\n",
       "| Toa Alta Municipio      | Puerto Rico |  57375 | 5412 | 291 | 296 | 6 | 4181 |  6608 |\n",
       "\n"
      ],
      "text/plain": [
       "  County                  State       White  Black American Indian Asian\n",
       "1 Corozal Municipio       Puerto Rico  28500 2097    0               0  \n",
       "2 Maunabo Municipio       Puerto Rico   3795 7042   10               0  \n",
       "3 Peñuelas Municipio      Puerto Rico  16967  755   29              35  \n",
       "4 Ponce Municipio         Puerto Rico 117164 7493  211             148  \n",
       "5 San Sebastián Municipio Puerto Rico  28075  996    0              97  \n",
       "6 Toa Alta Municipio      Puerto Rico  57375 5412  291             296  \n",
       "  Pacific Islander Other Race Two or More Races\n",
       "1 0                2916        1420            \n",
       "2 0                 317         133            \n",
       "3 0                3643         232            \n",
       "4 0                9801       14046            \n",
       "5 0                9202         600            \n",
       "6 6                4181        6608            "
      ]
     },
     "metadata": {},
     "output_type": "display_data"
    }
   ],
   "source": [
    "popdata_rename <-\n",
    "  rename(\n",
    "       popdata_estimates, \n",
    "      `White` = B02001_002E,\n",
    "      `Black` = B02001_003E,\n",
    "      `American Indian` = B02001_004E,\n",
    "      `Asian` = B02001_005E,\n",
    "      `Pacific Islander` = B02001_006E,\n",
    "      `Other Race` = B02001_007E,\n",
    "      `Two or More Races` = B02001_008E\n",
    "  )\n",
    "head(popdata_rename)"
   ]
  },
  {
   "cell_type": "markdown",
   "metadata": {},
   "source": [
    "# Creating calculated columns\n",
    "\n",
    "One of the best features of R data frames is the ability to create calculated columns. The ***dplyr*** package makes it easy to develop calculated columns simple to complex mathematical expressions and logic. Below is an example of using a calculated column to sum up the population of all the races."
   ]
  },
  {
   "cell_type": "code",
   "execution_count": 6,
   "metadata": {},
   "outputs": [
    {
     "data": {
      "text/html": [
       "<table>\n",
       "<caption>A tibble: 6 × 10</caption>\n",
       "<thead>\n",
       "\t<tr><th scope=col>County</th><th scope=col>State</th><th scope=col>White</th><th scope=col>Black</th><th scope=col>American Indian</th><th scope=col>Asian</th><th scope=col>Pacific Islander</th><th scope=col>Other Race</th><th scope=col>Two or More Races</th><th scope=col>All</th></tr>\n",
       "\t<tr><th scope=col>&lt;chr&gt;</th><th scope=col>&lt;chr&gt;</th><th scope=col>&lt;dbl&gt;</th><th scope=col>&lt;dbl&gt;</th><th scope=col>&lt;dbl&gt;</th><th scope=col>&lt;dbl&gt;</th><th scope=col>&lt;dbl&gt;</th><th scope=col>&lt;dbl&gt;</th><th scope=col>&lt;dbl&gt;</th><th scope=col>&lt;dbl&gt;</th></tr>\n",
       "</thead>\n",
       "<tbody>\n",
       "\t<tr><td>Corozal Municipio      </td><td>Puerto Rico</td><td> 28500</td><td>2097</td><td>  0</td><td>  0</td><td>0</td><td>2916</td><td> 1420</td><td> 34933</td></tr>\n",
       "\t<tr><td>Maunabo Municipio      </td><td>Puerto Rico</td><td>  3795</td><td>7042</td><td> 10</td><td>  0</td><td>0</td><td> 317</td><td>  133</td><td> 11297</td></tr>\n",
       "\t<tr><td>Peñuelas Municipio     </td><td>Puerto Rico</td><td> 16967</td><td> 755</td><td> 29</td><td> 35</td><td>0</td><td>3643</td><td>  232</td><td> 21661</td></tr>\n",
       "\t<tr><td>Ponce Municipio        </td><td>Puerto Rico</td><td>117164</td><td>7493</td><td>211</td><td>148</td><td>0</td><td>9801</td><td>14046</td><td>148863</td></tr>\n",
       "\t<tr><td>San Sebastián Municipio</td><td>Puerto Rico</td><td> 28075</td><td> 996</td><td>  0</td><td> 97</td><td>0</td><td>9202</td><td>  600</td><td> 38970</td></tr>\n",
       "\t<tr><td>Toa Alta Municipio     </td><td>Puerto Rico</td><td> 57375</td><td>5412</td><td>291</td><td>296</td><td>6</td><td>4181</td><td> 6608</td><td> 74169</td></tr>\n",
       "</tbody>\n",
       "</table>\n"
      ],
      "text/latex": [
       "A tibble: 6 × 10\n",
       "\\begin{tabular}{llllllllll}\n",
       " County & State & White & Black & American Indian & Asian & Pacific Islander & Other Race & Two or More Races & All\\\\\n",
       " <chr> & <chr> & <dbl> & <dbl> & <dbl> & <dbl> & <dbl> & <dbl> & <dbl> & <dbl>\\\\\n",
       "\\hline\n",
       "\t Corozal Municipio       & Puerto Rico &  28500 & 2097 &   0 &   0 & 0 & 2916 &  1420 &  34933\\\\\n",
       "\t Maunabo Municipio       & Puerto Rico &   3795 & 7042 &  10 &   0 & 0 &  317 &   133 &  11297\\\\\n",
       "\t Peñuelas Municipio      & Puerto Rico &  16967 &  755 &  29 &  35 & 0 & 3643 &   232 &  21661\\\\\n",
       "\t Ponce Municipio         & Puerto Rico & 117164 & 7493 & 211 & 148 & 0 & 9801 & 14046 & 148863\\\\\n",
       "\t San Sebastián Municipio & Puerto Rico &  28075 &  996 &   0 &  97 & 0 & 9202 &   600 &  38970\\\\\n",
       "\t Toa Alta Municipio      & Puerto Rico &  57375 & 5412 & 291 & 296 & 6 & 4181 &  6608 &  74169\\\\\n",
       "\\end{tabular}\n"
      ],
      "text/markdown": [
       "\n",
       "A tibble: 6 × 10\n",
       "\n",
       "| County &lt;chr&gt; | State &lt;chr&gt; | White &lt;dbl&gt; | Black &lt;dbl&gt; | American Indian &lt;dbl&gt; | Asian &lt;dbl&gt; | Pacific Islander &lt;dbl&gt; | Other Race &lt;dbl&gt; | Two or More Races &lt;dbl&gt; | All &lt;dbl&gt; |\n",
       "|---|---|---|---|---|---|---|---|---|---|\n",
       "| Corozal Municipio       | Puerto Rico |  28500 | 2097 |   0 |   0 | 0 | 2916 |  1420 |  34933 |\n",
       "| Maunabo Municipio       | Puerto Rico |   3795 | 7042 |  10 |   0 | 0 |  317 |   133 |  11297 |\n",
       "| Peñuelas Municipio      | Puerto Rico |  16967 |  755 |  29 |  35 | 0 | 3643 |   232 |  21661 |\n",
       "| Ponce Municipio         | Puerto Rico | 117164 | 7493 | 211 | 148 | 0 | 9801 | 14046 | 148863 |\n",
       "| San Sebastián Municipio | Puerto Rico |  28075 |  996 |   0 |  97 | 0 | 9202 |   600 |  38970 |\n",
       "| Toa Alta Municipio      | Puerto Rico |  57375 | 5412 | 291 | 296 | 6 | 4181 |  6608 |  74169 |\n",
       "\n"
      ],
      "text/plain": [
       "  County                  State       White  Black American Indian Asian\n",
       "1 Corozal Municipio       Puerto Rico  28500 2097    0               0  \n",
       "2 Maunabo Municipio       Puerto Rico   3795 7042   10               0  \n",
       "3 Peñuelas Municipio      Puerto Rico  16967  755   29              35  \n",
       "4 Ponce Municipio         Puerto Rico 117164 7493  211             148  \n",
       "5 San Sebastián Municipio Puerto Rico  28075  996    0              97  \n",
       "6 Toa Alta Municipio      Puerto Rico  57375 5412  291             296  \n",
       "  Pacific Islander Other Race Two or More Races All   \n",
       "1 0                2916        1420              34933\n",
       "2 0                 317         133              11297\n",
       "3 0                3643         232              21661\n",
       "4 0                9801       14046             148863\n",
       "5 0                9202         600              38970\n",
       "6 6                4181        6608              74169"
      ]
     },
     "metadata": {},
     "output_type": "display_data"
    }
   ],
   "source": [
    "popdata_rowtotals <-\n",
    "      mutate(popdata_rename, \n",
    "             All = White + Black + `American Indian` + Asian + \n",
    "                   `Pacific Islander` + `Other Race` + `Two or More Races`\n",
    "      )\n",
    "head(popdata_rowtotals)"
   ]
  },
  {
   "cell_type": "markdown",
   "metadata": {},
   "source": [
    "A shorter and more succint method is to use the ***rowSums()*** method. The ***rowSums()*** method takes a data frame as an argument. You positioally subset the columns you want to sum using brackets. In this example we want to sum the values on the given row that are in the column in position 3 to the column in positon 9. We reference those columns using the following code:  `rowSums(popdata_rename[3:9]))`. The complete code snippet is listed below:"
   ]
  },
  {
   "cell_type": "code",
   "execution_count": 7,
   "metadata": {},
   "outputs": [
    {
     "data": {
      "text/html": [
       "<table>\n",
       "<caption>A tibble: 6 × 10</caption>\n",
       "<thead>\n",
       "\t<tr><th scope=col>County</th><th scope=col>State</th><th scope=col>White</th><th scope=col>Black</th><th scope=col>American Indian</th><th scope=col>Asian</th><th scope=col>Pacific Islander</th><th scope=col>Other Race</th><th scope=col>Two or More Races</th><th scope=col>All</th></tr>\n",
       "\t<tr><th scope=col>&lt;chr&gt;</th><th scope=col>&lt;chr&gt;</th><th scope=col>&lt;dbl&gt;</th><th scope=col>&lt;dbl&gt;</th><th scope=col>&lt;dbl&gt;</th><th scope=col>&lt;dbl&gt;</th><th scope=col>&lt;dbl&gt;</th><th scope=col>&lt;dbl&gt;</th><th scope=col>&lt;dbl&gt;</th><th scope=col>&lt;dbl&gt;</th></tr>\n",
       "</thead>\n",
       "<tbody>\n",
       "\t<tr><td>Corozal Municipio      </td><td>Puerto Rico</td><td> 28500</td><td>2097</td><td>  0</td><td>  0</td><td>0</td><td>2916</td><td> 1420</td><td> 34933</td></tr>\n",
       "\t<tr><td>Maunabo Municipio      </td><td>Puerto Rico</td><td>  3795</td><td>7042</td><td> 10</td><td>  0</td><td>0</td><td> 317</td><td>  133</td><td> 11297</td></tr>\n",
       "\t<tr><td>Peñuelas Municipio     </td><td>Puerto Rico</td><td> 16967</td><td> 755</td><td> 29</td><td> 35</td><td>0</td><td>3643</td><td>  232</td><td> 21661</td></tr>\n",
       "\t<tr><td>Ponce Municipio        </td><td>Puerto Rico</td><td>117164</td><td>7493</td><td>211</td><td>148</td><td>0</td><td>9801</td><td>14046</td><td>148863</td></tr>\n",
       "\t<tr><td>San Sebastián Municipio</td><td>Puerto Rico</td><td> 28075</td><td> 996</td><td>  0</td><td> 97</td><td>0</td><td>9202</td><td>  600</td><td> 38970</td></tr>\n",
       "\t<tr><td>Toa Alta Municipio     </td><td>Puerto Rico</td><td> 57375</td><td>5412</td><td>291</td><td>296</td><td>6</td><td>4181</td><td> 6608</td><td> 74169</td></tr>\n",
       "</tbody>\n",
       "</table>\n"
      ],
      "text/latex": [
       "A tibble: 6 × 10\n",
       "\\begin{tabular}{llllllllll}\n",
       " County & State & White & Black & American Indian & Asian & Pacific Islander & Other Race & Two or More Races & All\\\\\n",
       " <chr> & <chr> & <dbl> & <dbl> & <dbl> & <dbl> & <dbl> & <dbl> & <dbl> & <dbl>\\\\\n",
       "\\hline\n",
       "\t Corozal Municipio       & Puerto Rico &  28500 & 2097 &   0 &   0 & 0 & 2916 &  1420 &  34933\\\\\n",
       "\t Maunabo Municipio       & Puerto Rico &   3795 & 7042 &  10 &   0 & 0 &  317 &   133 &  11297\\\\\n",
       "\t Peñuelas Municipio      & Puerto Rico &  16967 &  755 &  29 &  35 & 0 & 3643 &   232 &  21661\\\\\n",
       "\t Ponce Municipio         & Puerto Rico & 117164 & 7493 & 211 & 148 & 0 & 9801 & 14046 & 148863\\\\\n",
       "\t San Sebastián Municipio & Puerto Rico &  28075 &  996 &   0 &  97 & 0 & 9202 &   600 &  38970\\\\\n",
       "\t Toa Alta Municipio      & Puerto Rico &  57375 & 5412 & 291 & 296 & 6 & 4181 &  6608 &  74169\\\\\n",
       "\\end{tabular}\n"
      ],
      "text/markdown": [
       "\n",
       "A tibble: 6 × 10\n",
       "\n",
       "| County &lt;chr&gt; | State &lt;chr&gt; | White &lt;dbl&gt; | Black &lt;dbl&gt; | American Indian &lt;dbl&gt; | Asian &lt;dbl&gt; | Pacific Islander &lt;dbl&gt; | Other Race &lt;dbl&gt; | Two or More Races &lt;dbl&gt; | All &lt;dbl&gt; |\n",
       "|---|---|---|---|---|---|---|---|---|---|\n",
       "| Corozal Municipio       | Puerto Rico |  28500 | 2097 |   0 |   0 | 0 | 2916 |  1420 |  34933 |\n",
       "| Maunabo Municipio       | Puerto Rico |   3795 | 7042 |  10 |   0 | 0 |  317 |   133 |  11297 |\n",
       "| Peñuelas Municipio      | Puerto Rico |  16967 |  755 |  29 |  35 | 0 | 3643 |   232 |  21661 |\n",
       "| Ponce Municipio         | Puerto Rico | 117164 | 7493 | 211 | 148 | 0 | 9801 | 14046 | 148863 |\n",
       "| San Sebastián Municipio | Puerto Rico |  28075 |  996 |   0 |  97 | 0 | 9202 |   600 |  38970 |\n",
       "| Toa Alta Municipio      | Puerto Rico |  57375 | 5412 | 291 | 296 | 6 | 4181 |  6608 |  74169 |\n",
       "\n"
      ],
      "text/plain": [
       "  County                  State       White  Black American Indian Asian\n",
       "1 Corozal Municipio       Puerto Rico  28500 2097    0               0  \n",
       "2 Maunabo Municipio       Puerto Rico   3795 7042   10               0  \n",
       "3 Peñuelas Municipio      Puerto Rico  16967  755   29              35  \n",
       "4 Ponce Municipio         Puerto Rico 117164 7493  211             148  \n",
       "5 San Sebastián Municipio Puerto Rico  28075  996    0              97  \n",
       "6 Toa Alta Municipio      Puerto Rico  57375 5412  291             296  \n",
       "  Pacific Islander Other Race Two or More Races All   \n",
       "1 0                2916        1420              34933\n",
       "2 0                 317         133              11297\n",
       "3 0                3643         232              21661\n",
       "4 0                9801       14046             148863\n",
       "5 0                9202         600              38970\n",
       "6 6                4181        6608              74169"
      ]
     },
     "metadata": {},
     "output_type": "display_data"
    }
   ],
   "source": [
    "popdata_rowtotals <-\n",
    "    mutate(popdata_rename, All = rowSums(popdata_rename[3:9]))\n",
    "head(popdata_rowtotals)"
   ]
  },
  {
   "cell_type": "markdown",
   "metadata": {},
   "source": [
    "A common calculation in data analysis is the ***percent of total***. Below is an example of calculating the ***percent of total*** by dividing the population of the race by the sum of the population of the other races:"
   ]
  },
  {
   "cell_type": "code",
   "execution_count": 8,
   "metadata": {},
   "outputs": [
    {
     "data": {
      "text/html": [
       "<table>\n",
       "<caption>A tibble: 6 × 16</caption>\n",
       "<thead>\n",
       "\t<tr><th scope=col>County</th><th scope=col>State</th><th scope=col>White</th><th scope=col>Black</th><th scope=col>American Indian</th><th scope=col>Asian</th><th scope=col>Pacific Islander</th><th scope=col>Other Race</th><th scope=col>Two or More Races</th><th scope=col>Percent White</th><th scope=col>Percent Black</th><th scope=col>Percent American Indian</th><th scope=col>Percent Asian</th><th scope=col>Percent Pacific Islander</th><th scope=col>Percent Other Race</th><th scope=col>Percent Two or More Races</th></tr>\n",
       "\t<tr><th scope=col>&lt;chr&gt;</th><th scope=col>&lt;chr&gt;</th><th scope=col>&lt;dbl&gt;</th><th scope=col>&lt;dbl&gt;</th><th scope=col>&lt;dbl&gt;</th><th scope=col>&lt;dbl&gt;</th><th scope=col>&lt;dbl&gt;</th><th scope=col>&lt;dbl&gt;</th><th scope=col>&lt;dbl&gt;</th><th scope=col>&lt;dbl&gt;</th><th scope=col>&lt;dbl&gt;</th><th scope=col>&lt;dbl&gt;</th><th scope=col>&lt;dbl&gt;</th><th scope=col>&lt;dbl&gt;</th><th scope=col>&lt;dbl&gt;</th><th scope=col>&lt;dbl&gt;</th></tr>\n",
       "</thead>\n",
       "<tbody>\n",
       "\t<tr><td>Corozal Municipio      </td><td>Puerto Rico</td><td> 28500</td><td>2097</td><td>  0</td><td>  0</td><td>0</td><td>2916</td><td> 1420</td><td>0.8158475</td><td>0.06002920</td><td>0.0000000000</td><td>0.0000000000</td><td>0.000000e+00</td><td>0.08347408</td><td>0.04064924</td></tr>\n",
       "\t<tr><td>Maunabo Municipio      </td><td>Puerto Rico</td><td>  3795</td><td>7042</td><td> 10</td><td>  0</td><td>0</td><td> 317</td><td>  133</td><td>0.3359299</td><td>0.62335133</td><td>0.0008851908</td><td>0.0000000000</td><td>0.000000e+00</td><td>0.02806055</td><td>0.01177304</td></tr>\n",
       "\t<tr><td>Peñuelas Municipio     </td><td>Puerto Rico</td><td> 16967</td><td> 755</td><td> 29</td><td> 35</td><td>0</td><td>3643</td><td>  232</td><td>0.7832972</td><td>0.03485527</td><td>0.0013388117</td><td>0.0016158072</td><td>0.000000e+00</td><td>0.16818245</td><td>0.01071049</td></tr>\n",
       "\t<tr><td>Ponce Municipio        </td><td>Puerto Rico</td><td>117164</td><td>7493</td><td>211</td><td>148</td><td>0</td><td>9801</td><td>14046</td><td>0.7870592</td><td>0.05033487</td><td>0.0014174106</td><td>0.0009942027</td><td>0.000000e+00</td><td>0.06583906</td><td>0.09435521</td></tr>\n",
       "\t<tr><td>San Sebastián Municipio</td><td>Puerto Rico</td><td> 28075</td><td> 996</td><td>  0</td><td> 97</td><td>0</td><td>9202</td><td>  600</td><td>0.7204260</td><td>0.02555812</td><td>0.0000000000</td><td>0.0024890942</td><td>0.000000e+00</td><td>0.23613036</td><td>0.01539646</td></tr>\n",
       "\t<tr><td>Toa Alta Municipio     </td><td>Puerto Rico</td><td> 57375</td><td>5412</td><td>291</td><td>296</td><td>6</td><td>4181</td><td> 6608</td><td>0.7735712</td><td>0.07296849</td><td>0.0039234721</td><td>0.0039908857</td><td>8.089633e-05</td><td>0.05637126</td><td>0.08909383</td></tr>\n",
       "</tbody>\n",
       "</table>\n"
      ],
      "text/latex": [
       "A tibble: 6 × 16\n",
       "\\begin{tabular}{llllllllllllllll}\n",
       " County & State & White & Black & American Indian & Asian & Pacific Islander & Other Race & Two or More Races & Percent White & Percent Black & Percent American Indian & Percent Asian & Percent Pacific Islander & Percent Other Race & Percent Two or More Races\\\\\n",
       " <chr> & <chr> & <dbl> & <dbl> & <dbl> & <dbl> & <dbl> & <dbl> & <dbl> & <dbl> & <dbl> & <dbl> & <dbl> & <dbl> & <dbl> & <dbl>\\\\\n",
       "\\hline\n",
       "\t Corozal Municipio       & Puerto Rico &  28500 & 2097 &   0 &   0 & 0 & 2916 &  1420 & 0.8158475 & 0.06002920 & 0.0000000000 & 0.0000000000 & 0.000000e+00 & 0.08347408 & 0.04064924\\\\\n",
       "\t Maunabo Municipio       & Puerto Rico &   3795 & 7042 &  10 &   0 & 0 &  317 &   133 & 0.3359299 & 0.62335133 & 0.0008851908 & 0.0000000000 & 0.000000e+00 & 0.02806055 & 0.01177304\\\\\n",
       "\t Peñuelas Municipio      & Puerto Rico &  16967 &  755 &  29 &  35 & 0 & 3643 &   232 & 0.7832972 & 0.03485527 & 0.0013388117 & 0.0016158072 & 0.000000e+00 & 0.16818245 & 0.01071049\\\\\n",
       "\t Ponce Municipio         & Puerto Rico & 117164 & 7493 & 211 & 148 & 0 & 9801 & 14046 & 0.7870592 & 0.05033487 & 0.0014174106 & 0.0009942027 & 0.000000e+00 & 0.06583906 & 0.09435521\\\\\n",
       "\t San Sebastián Municipio & Puerto Rico &  28075 &  996 &   0 &  97 & 0 & 9202 &   600 & 0.7204260 & 0.02555812 & 0.0000000000 & 0.0024890942 & 0.000000e+00 & 0.23613036 & 0.01539646\\\\\n",
       "\t Toa Alta Municipio      & Puerto Rico &  57375 & 5412 & 291 & 296 & 6 & 4181 &  6608 & 0.7735712 & 0.07296849 & 0.0039234721 & 0.0039908857 & 8.089633e-05 & 0.05637126 & 0.08909383\\\\\n",
       "\\end{tabular}\n"
      ],
      "text/markdown": [
       "\n",
       "A tibble: 6 × 16\n",
       "\n",
       "| County &lt;chr&gt; | State &lt;chr&gt; | White &lt;dbl&gt; | Black &lt;dbl&gt; | American Indian &lt;dbl&gt; | Asian &lt;dbl&gt; | Pacific Islander &lt;dbl&gt; | Other Race &lt;dbl&gt; | Two or More Races &lt;dbl&gt; | Percent White &lt;dbl&gt; | Percent Black &lt;dbl&gt; | Percent American Indian &lt;dbl&gt; | Percent Asian &lt;dbl&gt; | Percent Pacific Islander &lt;dbl&gt; | Percent Other Race &lt;dbl&gt; | Percent Two or More Races &lt;dbl&gt; |\n",
       "|---|---|---|---|---|---|---|---|---|---|---|---|---|---|---|---|\n",
       "| Corozal Municipio       | Puerto Rico |  28500 | 2097 |   0 |   0 | 0 | 2916 |  1420 | 0.8158475 | 0.06002920 | 0.0000000000 | 0.0000000000 | 0.000000e+00 | 0.08347408 | 0.04064924 |\n",
       "| Maunabo Municipio       | Puerto Rico |   3795 | 7042 |  10 |   0 | 0 |  317 |   133 | 0.3359299 | 0.62335133 | 0.0008851908 | 0.0000000000 | 0.000000e+00 | 0.02806055 | 0.01177304 |\n",
       "| Peñuelas Municipio      | Puerto Rico |  16967 |  755 |  29 |  35 | 0 | 3643 |   232 | 0.7832972 | 0.03485527 | 0.0013388117 | 0.0016158072 | 0.000000e+00 | 0.16818245 | 0.01071049 |\n",
       "| Ponce Municipio         | Puerto Rico | 117164 | 7493 | 211 | 148 | 0 | 9801 | 14046 | 0.7870592 | 0.05033487 | 0.0014174106 | 0.0009942027 | 0.000000e+00 | 0.06583906 | 0.09435521 |\n",
       "| San Sebastián Municipio | Puerto Rico |  28075 |  996 |   0 |  97 | 0 | 9202 |   600 | 0.7204260 | 0.02555812 | 0.0000000000 | 0.0024890942 | 0.000000e+00 | 0.23613036 | 0.01539646 |\n",
       "| Toa Alta Municipio      | Puerto Rico |  57375 | 5412 | 291 | 296 | 6 | 4181 |  6608 | 0.7735712 | 0.07296849 | 0.0039234721 | 0.0039908857 | 8.089633e-05 | 0.05637126 | 0.08909383 |\n",
       "\n"
      ],
      "text/plain": [
       "  County                  State       White  Black American Indian Asian\n",
       "1 Corozal Municipio       Puerto Rico  28500 2097    0               0  \n",
       "2 Maunabo Municipio       Puerto Rico   3795 7042   10               0  \n",
       "3 Peñuelas Municipio      Puerto Rico  16967  755   29              35  \n",
       "4 Ponce Municipio         Puerto Rico 117164 7493  211             148  \n",
       "5 San Sebastián Municipio Puerto Rico  28075  996    0              97  \n",
       "6 Toa Alta Municipio      Puerto Rico  57375 5412  291             296  \n",
       "  Pacific Islander Other Race Two or More Races Percent White Percent Black\n",
       "1 0                2916        1420             0.8158475     0.06002920   \n",
       "2 0                 317         133             0.3359299     0.62335133   \n",
       "3 0                3643         232             0.7832972     0.03485527   \n",
       "4 0                9801       14046             0.7870592     0.05033487   \n",
       "5 0                9202         600             0.7204260     0.02555812   \n",
       "6 6                4181        6608             0.7735712     0.07296849   \n",
       "  Percent American Indian Percent Asian Percent Pacific Islander\n",
       "1 0.0000000000            0.0000000000  0.000000e+00            \n",
       "2 0.0008851908            0.0000000000  0.000000e+00            \n",
       "3 0.0013388117            0.0016158072  0.000000e+00            \n",
       "4 0.0014174106            0.0009942027  0.000000e+00            \n",
       "5 0.0000000000            0.0024890942  0.000000e+00            \n",
       "6 0.0039234721            0.0039908857  8.089633e-05            \n",
       "  Percent Other Race Percent Two or More Races\n",
       "1 0.08347408         0.04064924               \n",
       "2 0.02806055         0.01177304               \n",
       "3 0.16818245         0.01071049               \n",
       "4 0.06583906         0.09435521               \n",
       "5 0.23613036         0.01539646               \n",
       "6 0.05637126         0.08909383               "
      ]
     },
     "metadata": {},
     "output_type": "display_data"
    }
   ],
   "source": [
    "popdata_percents <-\n",
    "  mutate(popdata_rename, \n",
    "         `Percent White` = \n",
    "              White / \n",
    "              (White + Black + `American Indian` + Asian + \n",
    "               `Pacific Islander` + `Other Race` + `Two or More Races`),\n",
    "         `Percent Black` = \n",
    "              Black / \n",
    "              (White + Black + `American Indian` + Asian + \n",
    "               `Pacific Islander` + `Other Race` + `Two or More Races`),\n",
    "         `Percent American Indian` = \n",
    "              `American Indian` / \n",
    "              (White + Black + `American Indian` + Asian + \n",
    "               `Pacific Islander` + `Other Race` + `Two or More Races`),\n",
    "         `Percent Asian` = \n",
    "              Asian / \n",
    "              (White + Black + `American Indian` + Asian + \n",
    "               `Pacific Islander` + `Other Race` + `Two or More Races`),\n",
    "         `Percent Pacific Islander` = \n",
    "              `Pacific Islander` / \n",
    "              (White + Black + `American Indian` + Asian + \n",
    "               `Pacific Islander` + `Other Race` + `Two or More Races`),\n",
    "         `Percent Other Race` = \n",
    "              `Other Race` / \n",
    "              (White + Black + `American Indian` + Asian + \n",
    "               `Pacific Islander` + `Other Race` + `Two or More Races`),\n",
    "         `Percent Two or More Races` = \n",
    "              `Two or More Races` / \n",
    "              (White + Black + `American Indian` + Asian + \n",
    "               `Pacific Islander` + `Other Race` + `Two or More Races`)\n",
    "  )\n",
    "head(popdata_percents)"
   ]
  },
  {
   "cell_type": "markdown",
   "metadata": {},
   "source": [
    "The above method is the long method and requires a lot of typing which means it is error prone. A more succinct and less error prone way would be to use the ***rowSums()*** function we learned earlier to calculate the denominator which is illustrated below:"
   ]
  },
  {
   "cell_type": "code",
   "execution_count": 9,
   "metadata": {},
   "outputs": [
    {
     "data": {
      "text/html": [
       "<table>\n",
       "<caption>A tibble: 6 × 16</caption>\n",
       "<thead>\n",
       "\t<tr><th scope=col>County</th><th scope=col>State</th><th scope=col>White</th><th scope=col>Black</th><th scope=col>American Indian</th><th scope=col>Asian</th><th scope=col>Pacific Islander</th><th scope=col>Other Race</th><th scope=col>Two or More Races</th><th scope=col>Percent White</th><th scope=col>Percent Black</th><th scope=col>Percent American Indian</th><th scope=col>Percent Asian</th><th scope=col>Percent Pacific Islander</th><th scope=col>Percent Other Race</th><th scope=col>Percent Two or More Races</th></tr>\n",
       "\t<tr><th scope=col>&lt;chr&gt;</th><th scope=col>&lt;chr&gt;</th><th scope=col>&lt;dbl&gt;</th><th scope=col>&lt;dbl&gt;</th><th scope=col>&lt;dbl&gt;</th><th scope=col>&lt;dbl&gt;</th><th scope=col>&lt;dbl&gt;</th><th scope=col>&lt;dbl&gt;</th><th scope=col>&lt;dbl&gt;</th><th scope=col>&lt;dbl&gt;</th><th scope=col>&lt;dbl&gt;</th><th scope=col>&lt;dbl&gt;</th><th scope=col>&lt;dbl&gt;</th><th scope=col>&lt;dbl&gt;</th><th scope=col>&lt;dbl&gt;</th><th scope=col>&lt;dbl&gt;</th></tr>\n",
       "</thead>\n",
       "<tbody>\n",
       "\t<tr><td>Corozal Municipio      </td><td>Puerto Rico</td><td> 28500</td><td>2097</td><td>  0</td><td>  0</td><td>0</td><td>2916</td><td> 1420</td><td>0.8158475</td><td>0.06002920</td><td>0.0000000000</td><td>0.0000000000</td><td>0.000000e+00</td><td>0.08347408</td><td>0.04064924</td></tr>\n",
       "\t<tr><td>Maunabo Municipio      </td><td>Puerto Rico</td><td>  3795</td><td>7042</td><td> 10</td><td>  0</td><td>0</td><td> 317</td><td>  133</td><td>0.3359299</td><td>0.62335133</td><td>0.0008851908</td><td>0.0000000000</td><td>0.000000e+00</td><td>0.02806055</td><td>0.01177304</td></tr>\n",
       "\t<tr><td>Peñuelas Municipio     </td><td>Puerto Rico</td><td> 16967</td><td> 755</td><td> 29</td><td> 35</td><td>0</td><td>3643</td><td>  232</td><td>0.7832972</td><td>0.03485527</td><td>0.0013388117</td><td>0.0016158072</td><td>0.000000e+00</td><td>0.16818245</td><td>0.01071049</td></tr>\n",
       "\t<tr><td>Ponce Municipio        </td><td>Puerto Rico</td><td>117164</td><td>7493</td><td>211</td><td>148</td><td>0</td><td>9801</td><td>14046</td><td>0.7870592</td><td>0.05033487</td><td>0.0014174106</td><td>0.0009942027</td><td>0.000000e+00</td><td>0.06583906</td><td>0.09435521</td></tr>\n",
       "\t<tr><td>San Sebastián Municipio</td><td>Puerto Rico</td><td> 28075</td><td> 996</td><td>  0</td><td> 97</td><td>0</td><td>9202</td><td>  600</td><td>0.7204260</td><td>0.02555812</td><td>0.0000000000</td><td>0.0024890942</td><td>0.000000e+00</td><td>0.23613036</td><td>0.01539646</td></tr>\n",
       "\t<tr><td>Toa Alta Municipio     </td><td>Puerto Rico</td><td> 57375</td><td>5412</td><td>291</td><td>296</td><td>6</td><td>4181</td><td> 6608</td><td>0.7735712</td><td>0.07296849</td><td>0.0039234721</td><td>0.0039908857</td><td>8.089633e-05</td><td>0.05637126</td><td>0.08909383</td></tr>\n",
       "</tbody>\n",
       "</table>\n"
      ],
      "text/latex": [
       "A tibble: 6 × 16\n",
       "\\begin{tabular}{llllllllllllllll}\n",
       " County & State & White & Black & American Indian & Asian & Pacific Islander & Other Race & Two or More Races & Percent White & Percent Black & Percent American Indian & Percent Asian & Percent Pacific Islander & Percent Other Race & Percent Two or More Races\\\\\n",
       " <chr> & <chr> & <dbl> & <dbl> & <dbl> & <dbl> & <dbl> & <dbl> & <dbl> & <dbl> & <dbl> & <dbl> & <dbl> & <dbl> & <dbl> & <dbl>\\\\\n",
       "\\hline\n",
       "\t Corozal Municipio       & Puerto Rico &  28500 & 2097 &   0 &   0 & 0 & 2916 &  1420 & 0.8158475 & 0.06002920 & 0.0000000000 & 0.0000000000 & 0.000000e+00 & 0.08347408 & 0.04064924\\\\\n",
       "\t Maunabo Municipio       & Puerto Rico &   3795 & 7042 &  10 &   0 & 0 &  317 &   133 & 0.3359299 & 0.62335133 & 0.0008851908 & 0.0000000000 & 0.000000e+00 & 0.02806055 & 0.01177304\\\\\n",
       "\t Peñuelas Municipio      & Puerto Rico &  16967 &  755 &  29 &  35 & 0 & 3643 &   232 & 0.7832972 & 0.03485527 & 0.0013388117 & 0.0016158072 & 0.000000e+00 & 0.16818245 & 0.01071049\\\\\n",
       "\t Ponce Municipio         & Puerto Rico & 117164 & 7493 & 211 & 148 & 0 & 9801 & 14046 & 0.7870592 & 0.05033487 & 0.0014174106 & 0.0009942027 & 0.000000e+00 & 0.06583906 & 0.09435521\\\\\n",
       "\t San Sebastián Municipio & Puerto Rico &  28075 &  996 &   0 &  97 & 0 & 9202 &   600 & 0.7204260 & 0.02555812 & 0.0000000000 & 0.0024890942 & 0.000000e+00 & 0.23613036 & 0.01539646\\\\\n",
       "\t Toa Alta Municipio      & Puerto Rico &  57375 & 5412 & 291 & 296 & 6 & 4181 &  6608 & 0.7735712 & 0.07296849 & 0.0039234721 & 0.0039908857 & 8.089633e-05 & 0.05637126 & 0.08909383\\\\\n",
       "\\end{tabular}\n"
      ],
      "text/markdown": [
       "\n",
       "A tibble: 6 × 16\n",
       "\n",
       "| County &lt;chr&gt; | State &lt;chr&gt; | White &lt;dbl&gt; | Black &lt;dbl&gt; | American Indian &lt;dbl&gt; | Asian &lt;dbl&gt; | Pacific Islander &lt;dbl&gt; | Other Race &lt;dbl&gt; | Two or More Races &lt;dbl&gt; | Percent White &lt;dbl&gt; | Percent Black &lt;dbl&gt; | Percent American Indian &lt;dbl&gt; | Percent Asian &lt;dbl&gt; | Percent Pacific Islander &lt;dbl&gt; | Percent Other Race &lt;dbl&gt; | Percent Two or More Races &lt;dbl&gt; |\n",
       "|---|---|---|---|---|---|---|---|---|---|---|---|---|---|---|---|\n",
       "| Corozal Municipio       | Puerto Rico |  28500 | 2097 |   0 |   0 | 0 | 2916 |  1420 | 0.8158475 | 0.06002920 | 0.0000000000 | 0.0000000000 | 0.000000e+00 | 0.08347408 | 0.04064924 |\n",
       "| Maunabo Municipio       | Puerto Rico |   3795 | 7042 |  10 |   0 | 0 |  317 |   133 | 0.3359299 | 0.62335133 | 0.0008851908 | 0.0000000000 | 0.000000e+00 | 0.02806055 | 0.01177304 |\n",
       "| Peñuelas Municipio      | Puerto Rico |  16967 |  755 |  29 |  35 | 0 | 3643 |   232 | 0.7832972 | 0.03485527 | 0.0013388117 | 0.0016158072 | 0.000000e+00 | 0.16818245 | 0.01071049 |\n",
       "| Ponce Municipio         | Puerto Rico | 117164 | 7493 | 211 | 148 | 0 | 9801 | 14046 | 0.7870592 | 0.05033487 | 0.0014174106 | 0.0009942027 | 0.000000e+00 | 0.06583906 | 0.09435521 |\n",
       "| San Sebastián Municipio | Puerto Rico |  28075 |  996 |   0 |  97 | 0 | 9202 |   600 | 0.7204260 | 0.02555812 | 0.0000000000 | 0.0024890942 | 0.000000e+00 | 0.23613036 | 0.01539646 |\n",
       "| Toa Alta Municipio      | Puerto Rico |  57375 | 5412 | 291 | 296 | 6 | 4181 |  6608 | 0.7735712 | 0.07296849 | 0.0039234721 | 0.0039908857 | 8.089633e-05 | 0.05637126 | 0.08909383 |\n",
       "\n"
      ],
      "text/plain": [
       "  County                  State       White  Black American Indian Asian\n",
       "1 Corozal Municipio       Puerto Rico  28500 2097    0               0  \n",
       "2 Maunabo Municipio       Puerto Rico   3795 7042   10               0  \n",
       "3 Peñuelas Municipio      Puerto Rico  16967  755   29              35  \n",
       "4 Ponce Municipio         Puerto Rico 117164 7493  211             148  \n",
       "5 San Sebastián Municipio Puerto Rico  28075  996    0              97  \n",
       "6 Toa Alta Municipio      Puerto Rico  57375 5412  291             296  \n",
       "  Pacific Islander Other Race Two or More Races Percent White Percent Black\n",
       "1 0                2916        1420             0.8158475     0.06002920   \n",
       "2 0                 317         133             0.3359299     0.62335133   \n",
       "3 0                3643         232             0.7832972     0.03485527   \n",
       "4 0                9801       14046             0.7870592     0.05033487   \n",
       "5 0                9202         600             0.7204260     0.02555812   \n",
       "6 6                4181        6608             0.7735712     0.07296849   \n",
       "  Percent American Indian Percent Asian Percent Pacific Islander\n",
       "1 0.0000000000            0.0000000000  0.000000e+00            \n",
       "2 0.0008851908            0.0000000000  0.000000e+00            \n",
       "3 0.0013388117            0.0016158072  0.000000e+00            \n",
       "4 0.0014174106            0.0009942027  0.000000e+00            \n",
       "5 0.0000000000            0.0024890942  0.000000e+00            \n",
       "6 0.0039234721            0.0039908857  8.089633e-05            \n",
       "  Percent Other Race Percent Two or More Races\n",
       "1 0.08347408         0.04064924               \n",
       "2 0.02806055         0.01177304               \n",
       "3 0.16818245         0.01071049               \n",
       "4 0.06583906         0.09435521               \n",
       "5 0.23613036         0.01539646               \n",
       "6 0.05637126         0.08909383               "
      ]
     },
     "metadata": {},
     "output_type": "display_data"
    }
   ],
   "source": [
    "popdata_percents <-\n",
    "  mutate(popdata_rename, \n",
    "         `Percent White` = \n",
    "              White / \n",
    "              rowSums(popdata_rename[3:9]),\n",
    "         `Percent Black` = \n",
    "               Black / \n",
    "               rowSums(popdata_rename[3:9]),\n",
    "         `Percent American Indian` = \n",
    "               `American Indian` / \n",
    "               rowSums(popdata_rename[3:9]),\n",
    "         `Percent Asian` = \n",
    "                Asian / \n",
    "                rowSums(popdata_rename[3:9]),\n",
    "         `Percent Pacific Islander` = \n",
    "                `Pacific Islander` / \n",
    "                rowSums(popdata_rename[3:9]),\n",
    "         `Percent Other Race` = \n",
    "                `Other Race` / \n",
    "                rowSums(popdata_rename[3:9]),\n",
    "         `Percent Two or More Races` = \n",
    "                `Two or More Races` / rowSums(popdata_rename[3:9])\n",
    "  )\n",
    "head(popdata_percents)"
   ]
  },
  {
   "cell_type": "markdown",
   "metadata": {},
   "source": [
    "The above method works great at performing the calculation but the values are not formatted. This makes the values hard to read. You can easily format the values using special formatting functions available in R. Below we are using the ***percent()*** function from the ***scales*** package to format the values as a percent."
   ]
  },
  {
   "cell_type": "code",
   "execution_count": 10,
   "metadata": {},
   "outputs": [
    {
     "data": {
      "text/html": [
       "<table>\n",
       "<caption>A tibble: 6 × 9</caption>\n",
       "<thead>\n",
       "\t<tr><th scope=col>County</th><th scope=col>State</th><th scope=col>Percent White</th><th scope=col>Percent Black</th><th scope=col>Percent American Indian</th><th scope=col>Percent Asian</th><th scope=col>Percent Pacific Islander</th><th scope=col>Percent Other Race</th><th scope=col>Percent Two or More Races</th></tr>\n",
       "\t<tr><th scope=col>&lt;chr&gt;</th><th scope=col>&lt;chr&gt;</th><th scope=col>&lt;chr&gt;</th><th scope=col>&lt;chr&gt;</th><th scope=col>&lt;chr&gt;</th><th scope=col>&lt;chr&gt;</th><th scope=col>&lt;chr&gt;</th><th scope=col>&lt;chr&gt;</th><th scope=col>&lt;chr&gt;</th></tr>\n",
       "</thead>\n",
       "<tbody>\n",
       "\t<tr><td>Corozal Municipio      </td><td>Puerto Rico</td><td>81.5847479%</td><td>6.0029199% </td><td>0.000000000%</td><td>0.00000000%</td><td>0.000000000%</td><td>8.34740790% </td><td>4.06492428%</td></tr>\n",
       "\t<tr><td>Maunabo Municipio      </td><td>Puerto Rico</td><td>33.5929893%</td><td>62.3351332%</td><td>0.088519076%</td><td>0.00000000%</td><td>0.000000000%</td><td>2.80605470% </td><td>1.17730371%</td></tr>\n",
       "\t<tr><td>Peñuelas Municipio     </td><td>Puerto Rico</td><td>78.3297170%</td><td>3.4855270% </td><td>0.133881169%</td><td>0.16158072%</td><td>0.000000000%</td><td>16.81824477%</td><td>1.07104935%</td></tr>\n",
       "\t<tr><td>Ponce Municipio        </td><td>Puerto Rico</td><td>78.7059242%</td><td>5.0334872% </td><td>0.141741064%</td><td>0.09942027%</td><td>0.000000000%</td><td>6.58390601% </td><td>9.43552125%</td></tr>\n",
       "\t<tr><td>San Sebastián Municipio</td><td>Puerto Rico</td><td>72.0425969%</td><td>2.5558122% </td><td>0.000000000%</td><td>0.24890942%</td><td>0.000000000%</td><td>23.61303567%</td><td>1.53964588%</td></tr>\n",
       "\t<tr><td>Toa Alta Municipio     </td><td>Puerto Rico</td><td>77.3571169%</td><td>7.2968491% </td><td>0.392347207%</td><td>0.39908857%</td><td>0.008089633%</td><td>5.63712602% </td><td>8.90938263%</td></tr>\n",
       "</tbody>\n",
       "</table>\n"
      ],
      "text/latex": [
       "A tibble: 6 × 9\n",
       "\\begin{tabular}{lllllllll}\n",
       " County & State & Percent White & Percent Black & Percent American Indian & Percent Asian & Percent Pacific Islander & Percent Other Race & Percent Two or More Races\\\\\n",
       " <chr> & <chr> & <chr> & <chr> & <chr> & <chr> & <chr> & <chr> & <chr>\\\\\n",
       "\\hline\n",
       "\t Corozal Municipio       & Puerto Rico & 81.5847479\\% & 6.0029199\\%  & 0.000000000\\% & 0.00000000\\% & 0.000000000\\% & 8.34740790\\%  & 4.06492428\\%\\\\\n",
       "\t Maunabo Municipio       & Puerto Rico & 33.5929893\\% & 62.3351332\\% & 0.088519076\\% & 0.00000000\\% & 0.000000000\\% & 2.80605470\\%  & 1.17730371\\%\\\\\n",
       "\t Peñuelas Municipio      & Puerto Rico & 78.3297170\\% & 3.4855270\\%  & 0.133881169\\% & 0.16158072\\% & 0.000000000\\% & 16.81824477\\% & 1.07104935\\%\\\\\n",
       "\t Ponce Municipio         & Puerto Rico & 78.7059242\\% & 5.0334872\\%  & 0.141741064\\% & 0.09942027\\% & 0.000000000\\% & 6.58390601\\%  & 9.43552125\\%\\\\\n",
       "\t San Sebastián Municipio & Puerto Rico & 72.0425969\\% & 2.5558122\\%  & 0.000000000\\% & 0.24890942\\% & 0.000000000\\% & 23.61303567\\% & 1.53964588\\%\\\\\n",
       "\t Toa Alta Municipio      & Puerto Rico & 77.3571169\\% & 7.2968491\\%  & 0.392347207\\% & 0.39908857\\% & 0.008089633\\% & 5.63712602\\%  & 8.90938263\\%\\\\\n",
       "\\end{tabular}\n"
      ],
      "text/markdown": [
       "\n",
       "A tibble: 6 × 9\n",
       "\n",
       "| County &lt;chr&gt; | State &lt;chr&gt; | Percent White &lt;chr&gt; | Percent Black &lt;chr&gt; | Percent American Indian &lt;chr&gt; | Percent Asian &lt;chr&gt; | Percent Pacific Islander &lt;chr&gt; | Percent Other Race &lt;chr&gt; | Percent Two or More Races &lt;chr&gt; |\n",
       "|---|---|---|---|---|---|---|---|---|\n",
       "| Corozal Municipio       | Puerto Rico | 81.5847479% | 6.0029199%  | 0.000000000% | 0.00000000% | 0.000000000% | 8.34740790%  | 4.06492428% |\n",
       "| Maunabo Municipio       | Puerto Rico | 33.5929893% | 62.3351332% | 0.088519076% | 0.00000000% | 0.000000000% | 2.80605470%  | 1.17730371% |\n",
       "| Peñuelas Municipio      | Puerto Rico | 78.3297170% | 3.4855270%  | 0.133881169% | 0.16158072% | 0.000000000% | 16.81824477% | 1.07104935% |\n",
       "| Ponce Municipio         | Puerto Rico | 78.7059242% | 5.0334872%  | 0.141741064% | 0.09942027% | 0.000000000% | 6.58390601%  | 9.43552125% |\n",
       "| San Sebastián Municipio | Puerto Rico | 72.0425969% | 2.5558122%  | 0.000000000% | 0.24890942% | 0.000000000% | 23.61303567% | 1.53964588% |\n",
       "| Toa Alta Municipio      | Puerto Rico | 77.3571169% | 7.2968491%  | 0.392347207% | 0.39908857% | 0.008089633% | 5.63712602%  | 8.90938263% |\n",
       "\n"
      ],
      "text/plain": [
       "  County                  State       Percent White Percent Black\n",
       "1 Corozal Municipio       Puerto Rico 81.5847479%   6.0029199%   \n",
       "2 Maunabo Municipio       Puerto Rico 33.5929893%   62.3351332%  \n",
       "3 Peñuelas Municipio      Puerto Rico 78.3297170%   3.4855270%   \n",
       "4 Ponce Municipio         Puerto Rico 78.7059242%   5.0334872%   \n",
       "5 San Sebastián Municipio Puerto Rico 72.0425969%   2.5558122%   \n",
       "6 Toa Alta Municipio      Puerto Rico 77.3571169%   7.2968491%   \n",
       "  Percent American Indian Percent Asian Percent Pacific Islander\n",
       "1 0.000000000%            0.00000000%   0.000000000%            \n",
       "2 0.088519076%            0.00000000%   0.000000000%            \n",
       "3 0.133881169%            0.16158072%   0.000000000%            \n",
       "4 0.141741064%            0.09942027%   0.000000000%            \n",
       "5 0.000000000%            0.24890942%   0.000000000%            \n",
       "6 0.392347207%            0.39908857%   0.008089633%            \n",
       "  Percent Other Race Percent Two or More Races\n",
       "1 8.34740790%        4.06492428%              \n",
       "2 2.80605470%        1.17730371%              \n",
       "3 16.81824477%       1.07104935%              \n",
       "4 6.58390601%        9.43552125%              \n",
       "5 23.61303567%       1.53964588%              \n",
       "6 5.63712602%        8.90938263%              "
      ]
     },
     "metadata": {},
     "output_type": "display_data"
    }
   ],
   "source": [
    "popdata_percents_transumte <-\n",
    "  transmute(popdata_rename,\n",
    "            County,\n",
    "            State,\n",
    "            `Percent White` = \n",
    "                 percent(White / rowSums(popdata_rename[3:9])),\n",
    "            `Percent Black` = \n",
    "                 percent(Black / rowSums(popdata_rename[3:9])),\n",
    "            `Percent American Indian` = \n",
    "                 percent(`American Indian` / rowSums(popdata_rename[3:9])),\n",
    "            `Percent Asian` = \n",
    "                 percent(Asian / rowSums(popdata_rename[3:9])),\n",
    "            `Percent Pacific Islander` = \n",
    "                 percent(`Pacific Islander` / rowSums(popdata_rename[3:9])),\n",
    "            `Percent Other Race` = \n",
    "                 percent(`Other Race` / rowSums(popdata_rename[3:9])),\n",
    "            `Percent Two or More Races` = \n",
    "                 percent(`Two or More Races` / rowSums(popdata_rename[3:9]))\n",
    "  )\n",
    "head(popdata_percents_transumte)"
   ]
  },
  {
   "cell_type": "markdown",
   "metadata": {},
   "source": [
    "You are not limited to select a range of columns as we have previously done when summing multiple columns in a calculated column using the ***rowSums()*** function. You can positional select the columns as well using the ***c()*** function. Below the ***c()*** function is used to positionally select the columns that neeeds be added. The column subsetting is done inside the bracket in the following code:  `rowSums(popdata_rename[,c(3,4)])`.  The `c(3,4)` is a way of telling R that we want to sum the values in the columns that are in position 3 and 4 in the given row in the ***popdata_rename*** data frame."
   ]
  },
  {
   "cell_type": "code",
   "execution_count": 11,
   "metadata": {},
   "outputs": [
    {
     "data": {
      "text/html": [
       "<table>\n",
       "<caption>A tibble: 6 × 5</caption>\n",
       "<thead>\n",
       "\t<tr><th scope=col>County</th><th scope=col>State</th><th scope=col>White</th><th scope=col>Black</th><th scope=col>Black and White</th></tr>\n",
       "\t<tr><th scope=col>&lt;chr&gt;</th><th scope=col>&lt;chr&gt;</th><th scope=col>&lt;dbl&gt;</th><th scope=col>&lt;dbl&gt;</th><th scope=col>&lt;dbl&gt;</th></tr>\n",
       "</thead>\n",
       "<tbody>\n",
       "\t<tr><td>Corozal Municipio      </td><td>Puerto Rico</td><td> 28500</td><td>2097</td><td> 30597</td></tr>\n",
       "\t<tr><td>Maunabo Municipio      </td><td>Puerto Rico</td><td>  3795</td><td>7042</td><td> 10837</td></tr>\n",
       "\t<tr><td>Peñuelas Municipio     </td><td>Puerto Rico</td><td> 16967</td><td> 755</td><td> 17722</td></tr>\n",
       "\t<tr><td>Ponce Municipio        </td><td>Puerto Rico</td><td>117164</td><td>7493</td><td>124657</td></tr>\n",
       "\t<tr><td>San Sebastián Municipio</td><td>Puerto Rico</td><td> 28075</td><td> 996</td><td> 29071</td></tr>\n",
       "\t<tr><td>Toa Alta Municipio     </td><td>Puerto Rico</td><td> 57375</td><td>5412</td><td> 62787</td></tr>\n",
       "</tbody>\n",
       "</table>\n"
      ],
      "text/latex": [
       "A tibble: 6 × 5\n",
       "\\begin{tabular}{lllll}\n",
       " County & State & White & Black & Black and White\\\\\n",
       " <chr> & <chr> & <dbl> & <dbl> & <dbl>\\\\\n",
       "\\hline\n",
       "\t Corozal Municipio       & Puerto Rico &  28500 & 2097 &  30597\\\\\n",
       "\t Maunabo Municipio       & Puerto Rico &   3795 & 7042 &  10837\\\\\n",
       "\t Peñuelas Municipio      & Puerto Rico &  16967 &  755 &  17722\\\\\n",
       "\t Ponce Municipio         & Puerto Rico & 117164 & 7493 & 124657\\\\\n",
       "\t San Sebastián Municipio & Puerto Rico &  28075 &  996 &  29071\\\\\n",
       "\t Toa Alta Municipio      & Puerto Rico &  57375 & 5412 &  62787\\\\\n",
       "\\end{tabular}\n"
      ],
      "text/markdown": [
       "\n",
       "A tibble: 6 × 5\n",
       "\n",
       "| County &lt;chr&gt; | State &lt;chr&gt; | White &lt;dbl&gt; | Black &lt;dbl&gt; | Black and White &lt;dbl&gt; |\n",
       "|---|---|---|---|---|\n",
       "| Corozal Municipio       | Puerto Rico |  28500 | 2097 |  30597 |\n",
       "| Maunabo Municipio       | Puerto Rico |   3795 | 7042 |  10837 |\n",
       "| Peñuelas Municipio      | Puerto Rico |  16967 |  755 |  17722 |\n",
       "| Ponce Municipio         | Puerto Rico | 117164 | 7493 | 124657 |\n",
       "| San Sebastián Municipio | Puerto Rico |  28075 |  996 |  29071 |\n",
       "| Toa Alta Municipio      | Puerto Rico |  57375 | 5412 |  62787 |\n",
       "\n"
      ],
      "text/plain": [
       "  County                  State       White  Black Black and White\n",
       "1 Corozal Municipio       Puerto Rico  28500 2097   30597         \n",
       "2 Maunabo Municipio       Puerto Rico   3795 7042   10837         \n",
       "3 Peñuelas Municipio      Puerto Rico  16967  755   17722         \n",
       "4 Ponce Municipio         Puerto Rico 117164 7493  124657         \n",
       "5 San Sebastián Municipio Puerto Rico  28075  996   29071         \n",
       "6 Toa Alta Municipio      Puerto Rico  57375 5412   62787         "
      ]
     },
     "metadata": {},
     "output_type": "display_data"
    }
   ],
   "source": [
    "popdata_bw <-\n",
    "  transmute(popdata_rename, \n",
    "         County,\n",
    "         State,\n",
    "         White,\n",
    "         Black,\n",
    "         #`Black and White` = rowSums(popdata_rename[,c(3,4)])\n",
    "         `Black and White` = rowSums(popdata_rename[c(3,4)])\n",
    "  )\n",
    "head(popdata_bw)"
   ]
  },
  {
   "cell_type": "markdown",
   "metadata": {},
   "source": [
    "You can also do the same task using the column name instead of the column position as illustrated below:"
   ]
  },
  {
   "cell_type": "code",
   "execution_count": 12,
   "metadata": {},
   "outputs": [
    {
     "data": {
      "text/html": [
       "<table>\n",
       "<caption>A tibble: 6 × 5</caption>\n",
       "<thead>\n",
       "\t<tr><th scope=col>County</th><th scope=col>State</th><th scope=col>White</th><th scope=col>Black</th><th scope=col>Black and White</th></tr>\n",
       "\t<tr><th scope=col>&lt;chr&gt;</th><th scope=col>&lt;chr&gt;</th><th scope=col>&lt;dbl&gt;</th><th scope=col>&lt;dbl&gt;</th><th scope=col>&lt;dbl&gt;</th></tr>\n",
       "</thead>\n",
       "<tbody>\n",
       "\t<tr><td>Corozal Municipio      </td><td>Puerto Rico</td><td> 28500</td><td>2097</td><td> 30597</td></tr>\n",
       "\t<tr><td>Maunabo Municipio      </td><td>Puerto Rico</td><td>  3795</td><td>7042</td><td> 10837</td></tr>\n",
       "\t<tr><td>Peñuelas Municipio     </td><td>Puerto Rico</td><td> 16967</td><td> 755</td><td> 17722</td></tr>\n",
       "\t<tr><td>Ponce Municipio        </td><td>Puerto Rico</td><td>117164</td><td>7493</td><td>124657</td></tr>\n",
       "\t<tr><td>San Sebastián Municipio</td><td>Puerto Rico</td><td> 28075</td><td> 996</td><td> 29071</td></tr>\n",
       "\t<tr><td>Toa Alta Municipio     </td><td>Puerto Rico</td><td> 57375</td><td>5412</td><td> 62787</td></tr>\n",
       "</tbody>\n",
       "</table>\n"
      ],
      "text/latex": [
       "A tibble: 6 × 5\n",
       "\\begin{tabular}{lllll}\n",
       " County & State & White & Black & Black and White\\\\\n",
       " <chr> & <chr> & <dbl> & <dbl> & <dbl>\\\\\n",
       "\\hline\n",
       "\t Corozal Municipio       & Puerto Rico &  28500 & 2097 &  30597\\\\\n",
       "\t Maunabo Municipio       & Puerto Rico &   3795 & 7042 &  10837\\\\\n",
       "\t Peñuelas Municipio      & Puerto Rico &  16967 &  755 &  17722\\\\\n",
       "\t Ponce Municipio         & Puerto Rico & 117164 & 7493 & 124657\\\\\n",
       "\t San Sebastián Municipio & Puerto Rico &  28075 &  996 &  29071\\\\\n",
       "\t Toa Alta Municipio      & Puerto Rico &  57375 & 5412 &  62787\\\\\n",
       "\\end{tabular}\n"
      ],
      "text/markdown": [
       "\n",
       "A tibble: 6 × 5\n",
       "\n",
       "| County &lt;chr&gt; | State &lt;chr&gt; | White &lt;dbl&gt; | Black &lt;dbl&gt; | Black and White &lt;dbl&gt; |\n",
       "|---|---|---|---|---|\n",
       "| Corozal Municipio       | Puerto Rico |  28500 | 2097 |  30597 |\n",
       "| Maunabo Municipio       | Puerto Rico |   3795 | 7042 |  10837 |\n",
       "| Peñuelas Municipio      | Puerto Rico |  16967 |  755 |  17722 |\n",
       "| Ponce Municipio         | Puerto Rico | 117164 | 7493 | 124657 |\n",
       "| San Sebastián Municipio | Puerto Rico |  28075 |  996 |  29071 |\n",
       "| Toa Alta Municipio      | Puerto Rico |  57375 | 5412 |  62787 |\n",
       "\n"
      ],
      "text/plain": [
       "  County                  State       White  Black Black and White\n",
       "1 Corozal Municipio       Puerto Rico  28500 2097   30597         \n",
       "2 Maunabo Municipio       Puerto Rico   3795 7042   10837         \n",
       "3 Peñuelas Municipio      Puerto Rico  16967  755   17722         \n",
       "4 Ponce Municipio         Puerto Rico 117164 7493  124657         \n",
       "5 San Sebastián Municipio Puerto Rico  28075  996   29071         \n",
       "6 Toa Alta Municipio      Puerto Rico  57375 5412   62787         "
      ]
     },
     "metadata": {},
     "output_type": "display_data"
    }
   ],
   "source": [
    "popdata_bw <-\n",
    "  transmute(popdata_rename, \n",
    "         County,\n",
    "         State,\n",
    "         White,\n",
    "         Black,\n",
    "         `Black and White` = rowSums(popdata_rename[,c(\"White\",\"Black\")])\n",
    "  )\n",
    "head(popdata_bw)"
   ]
  },
  {
   "cell_type": "markdown",
   "metadata": {},
   "source": [
    "# Aggregating and pivoting data\n",
    "\n",
    "The data in the ***popdata_rename*** data frame contains population data at the county data. The ***dplyr*** offers functionality that makes it relatively easy to aggregate data at the desired level. Below, we are aggregating the data up one level to the **state** level. \n",
    "\n",
    "This is done in multiple steps that are chained together using the ***pipe operator (%>%)*** that is made available from the ***dplyr*** load. This operator enables you to take the results of the expression that precedes the ***pipe operator*** and pass it to the expression in the succeeding operator as the first argument. So, in the code below The following steps are performed:\n",
    "\n",
    "1. A chain operation is started based on the ***popdata_rename*** data frame using the pipe operator. The ***popdata_rename*** data frame is passed to the first argument of the ***group_by()*** function.\n",
    "2. The ***State*** column you want to group by is specified in the ***group_by()*** function. You can specify more than one column by delimiting the columns you want to use with a comma. You pass the results of this step to the ***sumarize()*** function in the next step via the pipe operator\n",
    "3. You create calculated columns that holds the aggregated values based on your groupings. The aggregated values in this example are summations. \n",
    "\n",
    "*Note the use of the na.rm in the sum function. That function is important because NA values can have unexpected side effects. One NA value will cause result to be NA. You can mitigate this behavior if it is not desired by setting the na.rm argument to TRUE.*"
   ]
  },
  {
   "cell_type": "code",
   "execution_count": 13,
   "metadata": {},
   "outputs": [
    {
     "data": {
      "text/html": [
       "<table>\n",
       "<caption>A tibble: 6 × 9</caption>\n",
       "<thead>\n",
       "\t<tr><th scope=col>State</th><th scope=col>White</th><th scope=col>Black</th><th scope=col>American Indian</th><th scope=col>Asian</th><th scope=col>Pacific Islander</th><th scope=col>Other Race</th><th scope=col>Two or More Races</th><th scope=col>Number of Counties</th></tr>\n",
       "\t<tr><th scope=col>&lt;chr&gt;</th><th scope=col>&lt;dbl&gt;</th><th scope=col>&lt;dbl&gt;</th><th scope=col>&lt;dbl&gt;</th><th scope=col>&lt;dbl&gt;</th><th scope=col>&lt;dbl&gt;</th><th scope=col>&lt;dbl&gt;</th><th scope=col>&lt;dbl&gt;</th><th scope=col>&lt;int&gt;</th></tr>\n",
       "</thead>\n",
       "<tbody>\n",
       "\t<tr><td>Alabama   </td><td> 3317702</td><td>1287167</td><td> 25098</td><td>  62815</td><td>  2213</td><td>  66942</td><td>  88834</td><td>67</td></tr>\n",
       "\t<tr><td>Alaska    </td><td>  481971</td><td>  23702</td><td>104995</td><td>  45604</td><td>  9075</td><td>  10505</td><td>  62713</td><td>29</td></tr>\n",
       "\t<tr><td>Arizona   </td><td> 5277661</td><td> 292831</td><td>300182</td><td> 213417</td><td> 13364</td><td> 474583</td><td> 237908</td><td>15</td></tr>\n",
       "\t<tr><td>Arkansas  </td><td> 2302141</td><td> 459969</td><td> 19476</td><td>  42368</td><td>  7062</td><td>  75106</td><td>  71822</td><td>75</td></tr>\n",
       "\t<tr><td>California</td><td>23607242</td><td>2263222</td><td>292018</td><td>5503672</td><td>152027</td><td>5329952</td><td>1834714</td><td>58</td></tr>\n",
       "\t<tr><td>Colorado  </td><td> 4576201</td><td> 221155</td><td> 51406</td><td> 164771</td><td>  8580</td><td> 225497</td><td> 188909</td><td>64</td></tr>\n",
       "</tbody>\n",
       "</table>\n"
      ],
      "text/latex": [
       "A tibble: 6 × 9\n",
       "\\begin{tabular}{lllllllll}\n",
       " State & White & Black & American Indian & Asian & Pacific Islander & Other Race & Two or More Races & Number of Counties\\\\\n",
       " <chr> & <dbl> & <dbl> & <dbl> & <dbl> & <dbl> & <dbl> & <dbl> & <int>\\\\\n",
       "\\hline\n",
       "\t Alabama    &  3317702 & 1287167 &  25098 &   62815 &   2213 &   66942 &   88834 & 67\\\\\n",
       "\t Alaska     &   481971 &   23702 & 104995 &   45604 &   9075 &   10505 &   62713 & 29\\\\\n",
       "\t Arizona    &  5277661 &  292831 & 300182 &  213417 &  13364 &  474583 &  237908 & 15\\\\\n",
       "\t Arkansas   &  2302141 &  459969 &  19476 &   42368 &   7062 &   75106 &   71822 & 75\\\\\n",
       "\t California & 23607242 & 2263222 & 292018 & 5503672 & 152027 & 5329952 & 1834714 & 58\\\\\n",
       "\t Colorado   &  4576201 &  221155 &  51406 &  164771 &   8580 &  225497 &  188909 & 64\\\\\n",
       "\\end{tabular}\n"
      ],
      "text/markdown": [
       "\n",
       "A tibble: 6 × 9\n",
       "\n",
       "| State &lt;chr&gt; | White &lt;dbl&gt; | Black &lt;dbl&gt; | American Indian &lt;dbl&gt; | Asian &lt;dbl&gt; | Pacific Islander &lt;dbl&gt; | Other Race &lt;dbl&gt; | Two or More Races &lt;dbl&gt; | Number of Counties &lt;int&gt; |\n",
       "|---|---|---|---|---|---|---|---|---|\n",
       "| Alabama    |  3317702 | 1287167 |  25098 |   62815 |   2213 |   66942 |   88834 | 67 |\n",
       "| Alaska     |   481971 |   23702 | 104995 |   45604 |   9075 |   10505 |   62713 | 29 |\n",
       "| Arizona    |  5277661 |  292831 | 300182 |  213417 |  13364 |  474583 |  237908 | 15 |\n",
       "| Arkansas   |  2302141 |  459969 |  19476 |   42368 |   7062 |   75106 |   71822 | 75 |\n",
       "| California | 23607242 | 2263222 | 292018 | 5503672 | 152027 | 5329952 | 1834714 | 58 |\n",
       "| Colorado   |  4576201 |  221155 |  51406 |  164771 |   8580 |  225497 |  188909 | 64 |\n",
       "\n"
      ],
      "text/plain": [
       "  State      White    Black   American Indian Asian   Pacific Islander\n",
       "1 Alabama     3317702 1287167  25098            62815   2213          \n",
       "2 Alaska       481971   23702 104995            45604   9075          \n",
       "3 Arizona     5277661  292831 300182           213417  13364          \n",
       "4 Arkansas    2302141  459969  19476            42368   7062          \n",
       "5 California 23607242 2263222 292018          5503672 152027          \n",
       "6 Colorado    4576201  221155  51406           164771   8580          \n",
       "  Other Race Two or More Races Number of Counties\n",
       "1   66942      88834           67                \n",
       "2   10505      62713           29                \n",
       "3  474583     237908           15                \n",
       "4   75106      71822           75                \n",
       "5 5329952    1834714           58                \n",
       "6  225497     188909           64                "
      ]
     },
     "metadata": {},
     "output_type": "display_data"
    }
   ],
   "source": [
    "popdata_group <-\n",
    "    popdata_rename %>%\n",
    "    group_by(State) %>%\n",
    "    summarize(\n",
    "        White = sum(White, na.rm=TRUE), \n",
    "        Black = sum(Black, na.rm=TRUE), \n",
    "        `American Indian`= sum(`American Indian`, na.rm=TRUE), \n",
    "        Asian = sum(Asian, na.rm=TRUE), \n",
    "        `Pacific Islander`= sum(`Pacific Islander`, na.rm=TRUE), \n",
    "        `Other Race` = sum(`Other Race`, na.rm=TRUE), \n",
    "        `Two or More Races` = sum(`Two or More Races`, na.rm=TRUE),\n",
    "        `Number of Counties`=n(),\n",
    "        .groups = 'drop'\n",
    "    )\n",
    "head(popdata_group)"
   ]
  },
  {
   "cell_type": "markdown",
   "metadata": {},
   "source": [
    "You can perform the above task using a more succinct and less error prone method via the ***summarize_if()*** function. Here are the arguments of the function:\n",
    "\n",
    "1. The first argument is a data frame. The data frame from the previous ***group_by()*** step was implicitly passed to the ***summarize_if()*** function because a ***pipe operator*** was used. \n",
    "2. The next argument is a predicate function that is used test the condition you want to test. In this case we are testing to  see if the data type of the given column is numeric because only numeric columns will be acted upon.\n",
    "3. The next argument is the aggregate function you want to use which in this case is the ***sum()*** function. \n",
    "4. The last argument is for optional arguments. We use the na.rm optional argument and set it to **TRUE**. Remember that it is important to ensure that NA values will not influence your totals.\n",
    "\n",
    "Running the code below will give you the same results as the previous code snippet even though much less code was used."
   ]
  },
  {
   "cell_type": "code",
   "execution_count": 14,
   "metadata": {},
   "outputs": [
    {
     "data": {
      "text/html": [
       "<table>\n",
       "<caption>A tibble: 6 × 8</caption>\n",
       "<thead>\n",
       "\t<tr><th scope=col>State</th><th scope=col>White</th><th scope=col>Black</th><th scope=col>American Indian</th><th scope=col>Asian</th><th scope=col>Pacific Islander</th><th scope=col>Other Race</th><th scope=col>Two or More Races</th></tr>\n",
       "\t<tr><th scope=col>&lt;chr&gt;</th><th scope=col>&lt;dbl&gt;</th><th scope=col>&lt;dbl&gt;</th><th scope=col>&lt;dbl&gt;</th><th scope=col>&lt;dbl&gt;</th><th scope=col>&lt;dbl&gt;</th><th scope=col>&lt;dbl&gt;</th><th scope=col>&lt;dbl&gt;</th></tr>\n",
       "</thead>\n",
       "<tbody>\n",
       "\t<tr><td>Alabama   </td><td> 3317702</td><td>1287167</td><td> 25098</td><td>  62815</td><td>  2213</td><td>  66942</td><td>  88834</td></tr>\n",
       "\t<tr><td>Alaska    </td><td>  481971</td><td>  23702</td><td>104995</td><td>  45604</td><td>  9075</td><td>  10505</td><td>  62713</td></tr>\n",
       "\t<tr><td>Arizona   </td><td> 5277661</td><td> 292831</td><td>300182</td><td> 213417</td><td> 13364</td><td> 474583</td><td> 237908</td></tr>\n",
       "\t<tr><td>Arkansas  </td><td> 2302141</td><td> 459969</td><td> 19476</td><td>  42368</td><td>  7062</td><td>  75106</td><td>  71822</td></tr>\n",
       "\t<tr><td>California</td><td>23607242</td><td>2263222</td><td>292018</td><td>5503672</td><td>152027</td><td>5329952</td><td>1834714</td></tr>\n",
       "\t<tr><td>Colorado  </td><td> 4576201</td><td> 221155</td><td> 51406</td><td> 164771</td><td>  8580</td><td> 225497</td><td> 188909</td></tr>\n",
       "</tbody>\n",
       "</table>\n"
      ],
      "text/latex": [
       "A tibble: 6 × 8\n",
       "\\begin{tabular}{llllllll}\n",
       " State & White & Black & American Indian & Asian & Pacific Islander & Other Race & Two or More Races\\\\\n",
       " <chr> & <dbl> & <dbl> & <dbl> & <dbl> & <dbl> & <dbl> & <dbl>\\\\\n",
       "\\hline\n",
       "\t Alabama    &  3317702 & 1287167 &  25098 &   62815 &   2213 &   66942 &   88834\\\\\n",
       "\t Alaska     &   481971 &   23702 & 104995 &   45604 &   9075 &   10505 &   62713\\\\\n",
       "\t Arizona    &  5277661 &  292831 & 300182 &  213417 &  13364 &  474583 &  237908\\\\\n",
       "\t Arkansas   &  2302141 &  459969 &  19476 &   42368 &   7062 &   75106 &   71822\\\\\n",
       "\t California & 23607242 & 2263222 & 292018 & 5503672 & 152027 & 5329952 & 1834714\\\\\n",
       "\t Colorado   &  4576201 &  221155 &  51406 &  164771 &   8580 &  225497 &  188909\\\\\n",
       "\\end{tabular}\n"
      ],
      "text/markdown": [
       "\n",
       "A tibble: 6 × 8\n",
       "\n",
       "| State &lt;chr&gt; | White &lt;dbl&gt; | Black &lt;dbl&gt; | American Indian &lt;dbl&gt; | Asian &lt;dbl&gt; | Pacific Islander &lt;dbl&gt; | Other Race &lt;dbl&gt; | Two or More Races &lt;dbl&gt; |\n",
       "|---|---|---|---|---|---|---|---|\n",
       "| Alabama    |  3317702 | 1287167 |  25098 |   62815 |   2213 |   66942 |   88834 |\n",
       "| Alaska     |   481971 |   23702 | 104995 |   45604 |   9075 |   10505 |   62713 |\n",
       "| Arizona    |  5277661 |  292831 | 300182 |  213417 |  13364 |  474583 |  237908 |\n",
       "| Arkansas   |  2302141 |  459969 |  19476 |   42368 |   7062 |   75106 |   71822 |\n",
       "| California | 23607242 | 2263222 | 292018 | 5503672 | 152027 | 5329952 | 1834714 |\n",
       "| Colorado   |  4576201 |  221155 |  51406 |  164771 |   8580 |  225497 |  188909 |\n",
       "\n"
      ],
      "text/plain": [
       "  State      White    Black   American Indian Asian   Pacific Islander\n",
       "1 Alabama     3317702 1287167  25098            62815   2213          \n",
       "2 Alaska       481971   23702 104995            45604   9075          \n",
       "3 Arizona     5277661  292831 300182           213417  13364          \n",
       "4 Arkansas    2302141  459969  19476            42368   7062          \n",
       "5 California 23607242 2263222 292018          5503672 152027          \n",
       "6 Colorado    4576201  221155  51406           164771   8580          \n",
       "  Other Race Two or More Races\n",
       "1   66942      88834          \n",
       "2   10505      62713          \n",
       "3  474583     237908          \n",
       "4   75106      71822          \n",
       "5 5329952    1834714          \n",
       "6  225497     188909          "
      ]
     },
     "metadata": {},
     "output_type": "display_data"
    }
   ],
   "source": [
    "popdata_group <-\n",
    "  popdata_rename %>%\n",
    "  group_by(State) %>%\n",
    "  summarize_if(is.numeric, sum, na.rm = TRUE)\n",
    "head(popdata_group)"
   ]
  },
  {
   "cell_type": "markdown",
   "metadata": {},
   "source": [
    "An important concept in data analysis is the concept of having your data in a format know as a ***tidy*** format. This means that your data frame is structured in such a way that each column in your data frame represents a variable and each row in you data frame represents a single observation. Having your data in this format makes performing data analysis, in most cases, much easier. A thorough coverage of this topic can be found at this URL:  https://vita.had.co.nz/papers/tidy-data.pdf. \n",
    "\n",
    "The ***popdata_group*** is not in a ***tidy format*** because each race has its own column which breaks the rule. We can put the data in a ***tidy format*** using the code below:"
   ]
  },
  {
   "cell_type": "code",
   "execution_count": 15,
   "metadata": {},
   "outputs": [
    {
     "data": {
      "text/html": [
       "<table>\n",
       "<caption>A tibble: 6 × 3</caption>\n",
       "<thead>\n",
       "\t<tr><th scope=col>State</th><th scope=col>Race</th><th scope=col>Population</th></tr>\n",
       "\t<tr><th scope=col>&lt;chr&gt;</th><th scope=col>&lt;chr&gt;</th><th scope=col>&lt;dbl&gt;</th></tr>\n",
       "</thead>\n",
       "<tbody>\n",
       "\t<tr><td>Alabama</td><td>White           </td><td>3317702</td></tr>\n",
       "\t<tr><td>Alabama</td><td>Black           </td><td>1287167</td></tr>\n",
       "\t<tr><td>Alabama</td><td>American Indian </td><td>  25098</td></tr>\n",
       "\t<tr><td>Alabama</td><td>Asian           </td><td>  62815</td></tr>\n",
       "\t<tr><td>Alabama</td><td>Pacific Islander</td><td>   2213</td></tr>\n",
       "\t<tr><td>Alabama</td><td>Other Race      </td><td>  66942</td></tr>\n",
       "</tbody>\n",
       "</table>\n"
      ],
      "text/latex": [
       "A tibble: 6 × 3\n",
       "\\begin{tabular}{lll}\n",
       " State & Race & Population\\\\\n",
       " <chr> & <chr> & <dbl>\\\\\n",
       "\\hline\n",
       "\t Alabama & White            & 3317702\\\\\n",
       "\t Alabama & Black            & 1287167\\\\\n",
       "\t Alabama & American Indian  &   25098\\\\\n",
       "\t Alabama & Asian            &   62815\\\\\n",
       "\t Alabama & Pacific Islander &    2213\\\\\n",
       "\t Alabama & Other Race       &   66942\\\\\n",
       "\\end{tabular}\n"
      ],
      "text/markdown": [
       "\n",
       "A tibble: 6 × 3\n",
       "\n",
       "| State &lt;chr&gt; | Race &lt;chr&gt; | Population &lt;dbl&gt; |\n",
       "|---|---|---|\n",
       "| Alabama | White            | 3317702 |\n",
       "| Alabama | Black            | 1287167 |\n",
       "| Alabama | American Indian  |   25098 |\n",
       "| Alabama | Asian            |   62815 |\n",
       "| Alabama | Pacific Islander |    2213 |\n",
       "| Alabama | Other Race       |   66942 |\n",
       "\n"
      ],
      "text/plain": [
       "  State   Race             Population\n",
       "1 Alabama White            3317702   \n",
       "2 Alabama Black            1287167   \n",
       "3 Alabama American Indian    25098   \n",
       "4 Alabama Asian              62815   \n",
       "5 Alabama Pacific Islander    2213   \n",
       "6 Alabama Other Race         66942   "
      ]
     },
     "metadata": {},
     "output_type": "display_data"
    }
   ],
   "source": [
    "popdata_unpivot <-\n",
    "  popdata_group %>%\n",
    "  pivot_longer(\n",
    "      !State,\n",
    "      names_to = \"Race\",\n",
    "      values_to = \"Population\"\n",
    "  )\n",
    "head(popdata_unpivot)"
   ]
  },
  {
   "cell_type": "markdown",
   "metadata": {},
   "source": [
    "The code uses the the ***pivot_longer()*** function to unpivot the races into one column. It is done by first specifying the columns you want to unpivot. In this example we want to unpivot the column that represent the races which is all the columns except for the ***State*** column. We make that selection by negating the ***State*** column with the \"!\" which tells ***tidyr*** to select all columns instead of the ***State*** column. Next, we give a name to the column that will hold the races. In this example, we name that column ***Race***. Lastly, we name the column that will hold the value of the population for each state and race combination. The name we gave that column was ***Population***.\n",
    "\n",
    "\n",
    "\n",
    "# Performing data wrangling and data visualization in the same workflow\n",
    "\n",
    "We just performed several examples that showed how the ***pipe operator (%>%)*** can be used to chain together data wrangling steps. You can also use the ***pipe operator (%>%)*** to chain together both data wrangling tasks and a data visualization tasks in one work-flow. Below, we are filtering the data frame created in the previous step to only include records from the state of Michigan then creating a horizontal bar chart ranking the races by population count. The data wrangling methods and data visualization methods were covered earlier in the workshop. Below, we were able to combine both in one workflow using the ***pipe operator***."
   ]
  },
  {
   "cell_type": "code",
   "execution_count": 16,
   "metadata": {},
   "outputs": [
    {
     "data": {
      "image/png": "[encoded data removed]",
      "text/plain": [
       "plot without title"
      ]
     },
     "metadata": {
      "image/png": {
       "height": 480,
       "width": 900
      },
      "text/plain": {
       "height": 480,
       "width": 900
      }
     },
     "output_type": "display_data"
    }
   ],
   "source": [
    "options(repr.plot.width=15, repr.plot.height=8)\n",
    "plot <-\n",
    "    popdata_unpivot %>%\n",
    "    filter(State == \"Texas\") %>%\n",
    "    transmute(Race=fct_reorder(Race, Population), Population) %>%\n",
    "    ggplot(aes(x=Race, y=Population, label=comma(Population))) +\n",
    "        geom_bar(stat=\"Identity\", fill=\"red\") + \n",
    "        geom_label(size=6) +\n",
    "        coord_flip() +\n",
    "        scale_y_continuous(labels=NULL) +\n",
    "        theme_minimal() +\n",
    "        labs(\n",
    "              title = \"Main Title\"\n",
    "             ,subtitle = \"Sub Title\"\n",
    "             ,caption = \"My Caption\"\n",
    "        ) + \n",
    "    theme(axis.text = element_text(size=10),\n",
    "          axis.title = element_text(size=15),\n",
    "          plot.title = element_text(size=25),\n",
    "          plot.subtitle = element_text(size=20),\n",
    "          plot.caption = element_text(size=8))\n",
    "        \n",
    "plot"
   ]
  },
  {
   "cell_type": "code",
   "execution_count": null,
   "metadata": {},
   "outputs": [],
   "source": []
  }
 ],
 "metadata": {
  "kernelspec": {
   "display_name": "R",
   "language": "R",
   "name": "ir"
  },
  "language_info": {
   "codemirror_mode": "r",
   "file_extension": ".r",
   "mimetype": "text/x-r-source",
   "name": "R",
   "pygments_lexer": "r",
   "version": "3.6.3"
  }
 },
 "nbformat": 4,
 "nbformat_minor": 4
}
