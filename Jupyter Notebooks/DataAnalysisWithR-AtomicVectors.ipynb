{
 "cells": [
  {
   "cell_type": "markdown",
   "metadata": {},
   "source": [
    "# R Atomic Vectors\n",
    "\n",
    "In this section we cover the most basic data structure in R for data analysis, the ***atomic vector***. ***Atomic vectors*** are vectors that shares the same data type. The ***atomic vectors*** we will cover in this workshop are ***integer vectors***, ***double vectors***, ***boolean vectors***, and ***character vectors***. Let's start with integer vectors.\n",
    "\n",
    "Below is a numeric vector made up of numbers 1 to 5:"
   ]
  },
  {
   "cell_type": "code",
   "execution_count": 1,
   "metadata": {},
   "outputs": [
    {
     "data": {
      "text/html": [
       "<style>\n",
       ".list-inline {list-style: none; margin:0; padding: 0}\n",
       ".list-inline>li {display: inline-block}\n",
       ".list-inline>li:not(:last-child)::after {content: \"\\00b7\"; padding: 0 .5ex}\n",
       "</style>\n",
       "<ol class=list-inline><li>1</li><li>2</li><li>3</li><li>4</li><li>5</li></ol>\n"
      ],
      "text/latex": [
       "\\begin{enumerate*}\n",
       "\\item 1\n",
       "\\item 2\n",
       "\\item 3\n",
       "\\item 4\n",
       "\\item 5\n",
       "\\end{enumerate*}\n"
      ],
      "text/markdown": [
       "1. 1\n",
       "2. 2\n",
       "3. 3\n",
       "4. 4\n",
       "5. 5\n",
       "\n",
       "\n"
      ],
      "text/plain": [
       "[1] 1 2 3 4 5"
      ]
     },
     "metadata": {},
     "output_type": "display_data"
    }
   ],
   "source": [
    "int_vector <- seq.int(from=1,to=5, by = 1)\n",
    "int_vector"
   ]
  },
  {
   "cell_type": "markdown",
   "metadata": {},
   "source": [
    "Let's use the ***typeof()*** function to get the data type of the vector. Note that initially the data type was a double even though they appeared to be integers. We used the as.integer() function to convernt the vector to an integer vector:"
   ]
  },
  {
   "cell_type": "code",
   "execution_count": 2,
   "metadata": {},
   "outputs": [
    {
     "data": {
      "text/html": [
       "'double'"
      ],
      "text/latex": [
       "'double'"
      ],
      "text/markdown": [
       "'double'"
      ],
      "text/plain": [
       "[1] \"double\""
      ]
     },
     "metadata": {},
     "output_type": "display_data"
    },
    {
     "data": {
      "text/html": [
       "'integer'"
      ],
      "text/latex": [
       "'integer'"
      ],
      "text/markdown": [
       "'integer'"
      ],
      "text/plain": [
       "[1] \"integer\""
      ]
     },
     "metadata": {},
     "output_type": "display_data"
    }
   ],
   "source": [
    "typeof(int_vector)\n",
    "int_vector <- as.integer(int_vector)\n",
    "typeof(int_vector)"
   ]
  },
  {
   "cell_type": "markdown",
   "metadata": {},
   "source": [
    "Below is a simple example where we take advantage of ***vectorization*** to multiple all of the elements in the ***int_vector*** vector by 2. ***vectorization*** means that R is applying the multiplication below on all of the elements at once. There is not looping structure needed. "
   ]
  },
  {
   "cell_type": "code",
   "execution_count": 3,
   "metadata": {},
   "outputs": [
    {
     "data": {
      "text/html": [
       "<style>\n",
       ".list-inline {list-style: none; margin:0; padding: 0}\n",
       ".list-inline>li {display: inline-block}\n",
       ".list-inline>li:not(:last-child)::after {content: \"\\00b7\"; padding: 0 .5ex}\n",
       "</style>\n",
       "<ol class=list-inline><li>2</li><li>4</li><li>6</li><li>8</li><li>10</li></ol>\n"
      ],
      "text/latex": [
       "\\begin{enumerate*}\n",
       "\\item 2\n",
       "\\item 4\n",
       "\\item 6\n",
       "\\item 8\n",
       "\\item 10\n",
       "\\end{enumerate*}\n"
      ],
      "text/markdown": [
       "1. 2\n",
       "2. 4\n",
       "3. 6\n",
       "4. 8\n",
       "5. 10\n",
       "\n",
       "\n"
      ],
      "text/plain": [
       "[1]  2  4  6  8 10"
      ]
     },
     "metadata": {},
     "output_type": "display_data"
    }
   ],
   "source": [
    "int_vector * 2"
   ]
  },
  {
   "cell_type": "markdown",
   "metadata": {},
   "source": [
    "There are many things you can do with numeric based vectors. For instance, we can easily sum up the elements in the vector using the ***sum()*** function as illustrated below:"
   ]
  },
  {
   "cell_type": "code",
   "execution_count": 4,
   "metadata": {},
   "outputs": [
    {
     "data": {
      "text/html": [
       "15"
      ],
      "text/latex": [
       "15"
      ],
      "text/markdown": [
       "15"
      ],
      "text/plain": [
       "[1] 15"
      ]
     },
     "metadata": {},
     "output_type": "display_data"
    }
   ],
   "source": [
    "sum(int_vector)"
   ]
  },
  {
   "cell_type": "markdown",
   "metadata": {},
   "source": [
    "Another type of atomic vector is a ***logical vector*** which holds ***Boolean*** values. Below is a ***logical vector*** that returns **TRUE** for all elements in the ***int_vector*** that are even and **FALSE** otherwise. It does so using the modulus **%%** operator to get the remainder after dividing the given element in the vector by 2. If it is 0 then that means the element is even if it is not 0 then that means the element is odd. The results are printed below:"
   ]
  },
  {
   "cell_type": "code",
   "execution_count": 5,
   "metadata": {},
   "outputs": [
    {
     "data": {
      "text/html": [
       "<style>\n",
       ".list-inline {list-style: none; margin:0; padding: 0}\n",
       ".list-inline>li {display: inline-block}\n",
       ".list-inline>li:not(:last-child)::after {content: \"\\00b7\"; padding: 0 .5ex}\n",
       "</style>\n",
       "<ol class=list-inline><li>FALSE</li><li>TRUE</li><li>FALSE</li><li>TRUE</li><li>FALSE</li></ol>\n"
      ],
      "text/latex": [
       "\\begin{enumerate*}\n",
       "\\item FALSE\n",
       "\\item TRUE\n",
       "\\item FALSE\n",
       "\\item TRUE\n",
       "\\item FALSE\n",
       "\\end{enumerate*}\n"
      ],
      "text/markdown": [
       "1. FALSE\n",
       "2. TRUE\n",
       "3. FALSE\n",
       "4. TRUE\n",
       "5. FALSE\n",
       "\n",
       "\n"
      ],
      "text/plain": [
       "[1] FALSE  TRUE FALSE  TRUE FALSE"
      ]
     },
     "metadata": {},
     "output_type": "display_data"
    }
   ],
   "source": [
    "logical_vector <- int_vector %% 2 == 0\n",
    "logical_vector"
   ]
  },
  {
   "cell_type": "markdown",
   "metadata": {},
   "source": [
    "Underneath the hood the TRUE's in a ***logical vector*** are stored as a value of one and the FALSE's are stored as a value of zero. You can take advantage of this property by summing up the element in the vector to quickly get the number of TRUE's in the ***logical vector*** as illustrated below:"
   ]
  },
  {
   "cell_type": "code",
   "execution_count": 6,
   "metadata": {},
   "outputs": [
    {
     "data": {
      "text/html": [
       "2"
      ],
      "text/latex": [
       "2"
      ],
      "text/markdown": [
       "2"
      ],
      "text/plain": [
       "[1] 2"
      ]
     },
     "metadata": {},
     "output_type": "display_data"
    }
   ],
   "source": [
    "sum(logical_vector)"
   ]
  },
  {
   "cell_type": "markdown",
   "metadata": {},
   "source": [
    "The last type of vector we will discuss is the ***character vector***. It is used to store data that are in a string format. Below is a ***character vector*** that stores the last names of the previous 5 presidents:"
   ]
  },
  {
   "cell_type": "code",
   "execution_count": 7,
   "metadata": {},
   "outputs": [
    {
     "data": {
      "text/html": [
       "<style>\n",
       ".list-inline {list-style: none; margin:0; padding: 0}\n",
       ".list-inline>li {display: inline-block}\n",
       ".list-inline>li:not(:last-child)::after {content: \"\\00b7\"; padding: 0 .5ex}\n",
       "</style>\n",
       "<ol class=list-inline><li>'Biden'</li><li>'Trump'</li><li>'Obama'</li><li>'Bush'</li><li>'Clinton'</li></ol>\n"
      ],
      "text/latex": [
       "\\begin{enumerate*}\n",
       "\\item 'Biden'\n",
       "\\item 'Trump'\n",
       "\\item 'Obama'\n",
       "\\item 'Bush'\n",
       "\\item 'Clinton'\n",
       "\\end{enumerate*}\n"
      ],
      "text/markdown": [
       "1. 'Biden'\n",
       "2. 'Trump'\n",
       "3. 'Obama'\n",
       "4. 'Bush'\n",
       "5. 'Clinton'\n",
       "\n",
       "\n"
      ],
      "text/plain": [
       "[1] \"Biden\"   \"Trump\"   \"Obama\"   \"Bush\"    \"Clinton\""
      ]
     },
     "metadata": {},
     "output_type": "display_data"
    }
   ],
   "source": [
    "character_vector <- c(\"Biden\", \"Trump\", \"Obama\", \"Bush\", \"Clinton\")\n",
    "character_vector"
   ]
  },
  {
   "cell_type": "markdown",
   "metadata": {},
   "source": [
    "The type of operation you can perform on a vector is dependent on the type of vector it is. One of the operations you can perform on a ***character vector*** is sorting. Below we show how to use the ***sort()*** function to sort a ***character vector***:"
   ]
  },
  {
   "cell_type": "code",
   "execution_count": 8,
   "metadata": {},
   "outputs": [
    {
     "data": {
      "text/html": [
       "<style>\n",
       ".list-inline {list-style: none; margin:0; padding: 0}\n",
       ".list-inline>li {display: inline-block}\n",
       ".list-inline>li:not(:last-child)::after {content: \"\\00b7\"; padding: 0 .5ex}\n",
       "</style>\n",
       "<ol class=list-inline><li>'Biden'</li><li>'Bush'</li><li>'Clinton'</li><li>'Obama'</li><li>'Trump'</li></ol>\n"
      ],
      "text/latex": [
       "\\begin{enumerate*}\n",
       "\\item 'Biden'\n",
       "\\item 'Bush'\n",
       "\\item 'Clinton'\n",
       "\\item 'Obama'\n",
       "\\item 'Trump'\n",
       "\\end{enumerate*}\n"
      ],
      "text/markdown": [
       "1. 'Biden'\n",
       "2. 'Bush'\n",
       "3. 'Clinton'\n",
       "4. 'Obama'\n",
       "5. 'Trump'\n",
       "\n",
       "\n"
      ],
      "text/plain": [
       "[1] \"Biden\"   \"Bush\"    \"Clinton\" \"Obama\"   \"Trump\"  "
      ]
     },
     "metadata": {},
     "output_type": "display_data"
    },
    {
     "data": {
      "text/html": [
       "<style>\n",
       ".list-inline {list-style: none; margin:0; padding: 0}\n",
       ".list-inline>li {display: inline-block}\n",
       ".list-inline>li:not(:last-child)::after {content: \"\\00b7\"; padding: 0 .5ex}\n",
       "</style>\n",
       "<ol class=list-inline><li>'Trump'</li><li>'Obama'</li><li>'Clinton'</li><li>'Bush'</li><li>'Biden'</li></ol>\n"
      ],
      "text/latex": [
       "\\begin{enumerate*}\n",
       "\\item 'Trump'\n",
       "\\item 'Obama'\n",
       "\\item 'Clinton'\n",
       "\\item 'Bush'\n",
       "\\item 'Biden'\n",
       "\\end{enumerate*}\n"
      ],
      "text/markdown": [
       "1. 'Trump'\n",
       "2. 'Obama'\n",
       "3. 'Clinton'\n",
       "4. 'Bush'\n",
       "5. 'Biden'\n",
       "\n",
       "\n"
      ],
      "text/plain": [
       "[1] \"Trump\"   \"Obama\"   \"Clinton\" \"Bush\"    \"Biden\"  "
      ]
     },
     "metadata": {},
     "output_type": "display_data"
    }
   ],
   "source": [
    "sort(character_vector)\n",
    "sort(character_vector, decreasing = TRUE)"
   ]
  },
  {
   "cell_type": "markdown",
   "metadata": {},
   "source": [
    "Operations between two vectors happens in parallel. For example, below we have two vectors, vector ***int_vector_a*** and vector ***int_vector_b***. Both vectors are numeric vectors and have the same length. Vectorization allows us to add both of these vectors with having to implement any looping logic. The addition of the vectors will be position based so elements in vector ***int_vector_a*** will be added to the element in vector ***int_vector_b*** that is in the same position. The result will be a vector of the same that contains the values of the positional summations."
   ]
  },
  {
   "cell_type": "code",
   "execution_count": 10,
   "metadata": {},
   "outputs": [
    {
     "data": {
      "text/html": [
       "<style>\n",
       ".list-inline {list-style: none; margin:0; padding: 0}\n",
       ".list-inline>li {display: inline-block}\n",
       ".list-inline>li:not(:last-child)::after {content: \"\\00b7\"; padding: 0 .5ex}\n",
       "</style>\n",
       "<ol class=list-inline><li>7</li><li>9</li><li>11</li><li>13</li><li>15</li></ol>\n"
      ],
      "text/latex": [
       "\\begin{enumerate*}\n",
       "\\item 7\n",
       "\\item 9\n",
       "\\item 11\n",
       "\\item 13\n",
       "\\item 15\n",
       "\\end{enumerate*}\n"
      ],
      "text/markdown": [
       "1. 7\n",
       "2. 9\n",
       "3. 11\n",
       "4. 13\n",
       "5. 15\n",
       "\n",
       "\n"
      ],
      "text/plain": [
       "[1]  7  9 11 13 15"
      ]
     },
     "metadata": {},
     "output_type": "display_data"
    }
   ],
   "source": [
    "int_vector_a <- seq.int(from=1,to=5, by = 1)\n",
    "int_vector_b <- seq.int(from=6,to=10, by = 1)\n",
    "int_vector_a + int_vector_b"
   ]
  },
  {
   "cell_type": "code",
   "execution_count": null,
   "metadata": {},
   "outputs": [],
   "source": []
  }
 ],
 "metadata": {
  "kernelspec": {
   "display_name": "R",
   "language": "R",
   "name": "ir"
  },
  "language_info": {
   "codemirror_mode": "r",
   "file_extension": ".r",
   "mimetype": "text/x-r-source",
   "name": "R",
   "pygments_lexer": "r",
   "version": "3.6.3"
  }
 },
 "nbformat": 4,
 "nbformat_minor": 4
}
